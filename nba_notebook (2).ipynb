{
 "cells": [
  {
   "cell_type": "markdown",
   "metadata": {},
   "source": [
    "# Data import and visualization"
   ]
  },
  {
   "cell_type": "code",
   "execution_count": 37,
   "metadata": {},
   "outputs": [],
   "source": [
    "import sklearn\n",
    "import matplotlib.pyplot as plt\n",
    "import numpy as np\n",
    "import pandas as pd\n",
    "import seaborn as sns\n",
    "from sklearn.linear_model import LogisticRegression\n",
    "from sklearn.model_selection import train_test_split\n",
    "import warnings\n",
    "from sklearn.impute import SimpleImputer\n",
    "from sklearn.experimental import enable_iterative_imputer\n",
    "from sklearn.impute import IterativeImputer\n",
    "from sklearn.impute import KNNImputer\n",
    "from imblearn.over_sampling import SMOTE\n",
    "import imblearn\n",
    "%matplotlib inline\n",
    "warnings.simplefilter(action='ignore', category=FutureWarning)\n",
    "plt.style.use(\"Solarize_Light2\")\n",
    "\n",
    "\n",
    "#common imports"
   ]
  },
  {
   "cell_type": "code",
   "execution_count": 38,
   "metadata": {
    "scrolled": true
   },
   "outputs": [
    {
     "data": {
      "text/html": [
       "<div>\n",
       "<style scoped>\n",
       "    .dataframe tbody tr th:only-of-type {\n",
       "        vertical-align: middle;\n",
       "    }\n",
       "\n",
       "    .dataframe tbody tr th {\n",
       "        vertical-align: top;\n",
       "    }\n",
       "\n",
       "    .dataframe thead th {\n",
       "        text-align: right;\n",
       "    }\n",
       "</style>\n",
       "<table border=\"1\" class=\"dataframe\">\n",
       "  <thead>\n",
       "    <tr style=\"text-align: right;\">\n",
       "      <th></th>\n",
       "      <th>league</th>\n",
       "      <th>games</th>\n",
       "      <th>minutes</th>\n",
       "      <th>pts</th>\n",
       "      <th>offReb</th>\n",
       "      <th>defReb</th>\n",
       "      <th>reb</th>\n",
       "      <th>asts</th>\n",
       "      <th>stl</th>\n",
       "      <th>blk</th>\n",
       "      <th>...</th>\n",
       "      <th>ftm</th>\n",
       "      <th>tpa</th>\n",
       "      <th>tpm</th>\n",
       "      <th>totalSeasons</th>\n",
       "      <th>Position</th>\n",
       "      <th>firstSeason</th>\n",
       "      <th>lastSeason</th>\n",
       "      <th>careerEnded</th>\n",
       "      <th>yrsRetired2004</th>\n",
       "      <th>class</th>\n",
       "    </tr>\n",
       "  </thead>\n",
       "  <tbody>\n",
       "    <tr>\n",
       "      <th>0</th>\n",
       "      <td>1</td>\n",
       "      <td>408</td>\n",
       "      <td>9825.0</td>\n",
       "      <td>5232.0</td>\n",
       "      <td>476.0</td>\n",
       "      <td>824.0</td>\n",
       "      <td>1300.0</td>\n",
       "      <td>866.0</td>\n",
       "      <td>265.0</td>\n",
       "      <td>175.0</td>\n",
       "      <td>...</td>\n",
       "      <td>1125.0</td>\n",
       "      <td>153.0</td>\n",
       "      <td>45.0</td>\n",
       "      <td>9</td>\n",
       "      <td>1</td>\n",
       "      <td>1982</td>\n",
       "      <td>1990</td>\n",
       "      <td>1.0</td>\n",
       "      <td>14.0</td>\n",
       "      <td>0</td>\n",
       "    </tr>\n",
       "    <tr>\n",
       "      <th>1</th>\n",
       "      <td>1</td>\n",
       "      <td>51</td>\n",
       "      <td>NaN</td>\n",
       "      <td>587.0</td>\n",
       "      <td>NaN</td>\n",
       "      <td>NaN</td>\n",
       "      <td>NaN</td>\n",
       "      <td>158.0</td>\n",
       "      <td>NaN</td>\n",
       "      <td>NaN</td>\n",
       "      <td>...</td>\n",
       "      <td>143.0</td>\n",
       "      <td>NaN</td>\n",
       "      <td>NaN</td>\n",
       "      <td>1</td>\n",
       "      <td>1</td>\n",
       "      <td>1949</td>\n",
       "      <td>1949</td>\n",
       "      <td>1.0</td>\n",
       "      <td>55.0</td>\n",
       "      <td>0</td>\n",
       "    </tr>\n",
       "    <tr>\n",
       "      <th>2</th>\n",
       "      <td>1</td>\n",
       "      <td>265</td>\n",
       "      <td>NaN</td>\n",
       "      <td>1712.0</td>\n",
       "      <td>NaN</td>\n",
       "      <td>NaN</td>\n",
       "      <td>72.0</td>\n",
       "      <td>311.0</td>\n",
       "      <td>NaN</td>\n",
       "      <td>NaN</td>\n",
       "      <td>...</td>\n",
       "      <td>402.0</td>\n",
       "      <td>NaN</td>\n",
       "      <td>NaN</td>\n",
       "      <td>5</td>\n",
       "      <td>1</td>\n",
       "      <td>1946</td>\n",
       "      <td>1950</td>\n",
       "      <td>1.0</td>\n",
       "      <td>54.0</td>\n",
       "      <td>0</td>\n",
       "    </tr>\n",
       "    <tr>\n",
       "      <th>3</th>\n",
       "      <td>1</td>\n",
       "      <td>133</td>\n",
       "      <td>2587.0</td>\n",
       "      <td>992.0</td>\n",
       "      <td>55.0</td>\n",
       "      <td>198.0</td>\n",
       "      <td>253.0</td>\n",
       "      <td>291.0</td>\n",
       "      <td>123.0</td>\n",
       "      <td>14.0</td>\n",
       "      <td>...</td>\n",
       "      <td>102.0</td>\n",
       "      <td>349.0</td>\n",
       "      <td>134.0</td>\n",
       "      <td>2</td>\n",
       "      <td>1</td>\n",
       "      <td>2003</td>\n",
       "      <td>2004</td>\n",
       "      <td>NaN</td>\n",
       "      <td>NaN</td>\n",
       "      <td>0</td>\n",
       "    </tr>\n",
       "    <tr>\n",
       "      <th>4</th>\n",
       "      <td>1</td>\n",
       "      <td>8</td>\n",
       "      <td>28.0</td>\n",
       "      <td>7.0</td>\n",
       "      <td>NaN</td>\n",
       "      <td>2.0</td>\n",
       "      <td>2.0</td>\n",
       "      <td>NaN</td>\n",
       "      <td>NaN</td>\n",
       "      <td>NaN</td>\n",
       "      <td>...</td>\n",
       "      <td>3.0</td>\n",
       "      <td>NaN</td>\n",
       "      <td>NaN</td>\n",
       "      <td>1</td>\n",
       "      <td>1</td>\n",
       "      <td>2004</td>\n",
       "      <td>2004</td>\n",
       "      <td>NaN</td>\n",
       "      <td>NaN</td>\n",
       "      <td>0</td>\n",
       "    </tr>\n",
       "  </tbody>\n",
       "</table>\n",
       "<p>5 rows × 25 columns</p>\n",
       "</div>"
      ],
      "text/plain": [
       "   league  games  minutes     pts  offReb  defReb     reb   asts    stl  \\\n",
       "0       1    408   9825.0  5232.0   476.0   824.0  1300.0  866.0  265.0   \n",
       "1       1     51      NaN   587.0     NaN     NaN     NaN  158.0    NaN   \n",
       "2       1    265      NaN  1712.0     NaN     NaN    72.0  311.0    NaN   \n",
       "3       1    133   2587.0   992.0    55.0   198.0   253.0  291.0  123.0   \n",
       "4       1      8     28.0     7.0     NaN     2.0     2.0    NaN    NaN   \n",
       "\n",
       "     blk  ...     ftm    tpa    tpm  totalSeasons  Position  firstSeason  \\\n",
       "0  175.0  ...  1125.0  153.0   45.0             9         1         1982   \n",
       "1    NaN  ...   143.0    NaN    NaN             1         1         1949   \n",
       "2    NaN  ...   402.0    NaN    NaN             5         1         1946   \n",
       "3   14.0  ...   102.0  349.0  134.0             2         1         2003   \n",
       "4    NaN  ...     3.0    NaN    NaN             1         1         2004   \n",
       "\n",
       "   lastSeason  careerEnded  yrsRetired2004  class  \n",
       "0        1990          1.0            14.0      0  \n",
       "1        1949          1.0            55.0      0  \n",
       "2        1950          1.0            54.0      0  \n",
       "3        2004          NaN             NaN      0  \n",
       "4        2004          NaN             NaN      0  \n",
       "\n",
       "[5 rows x 25 columns]"
      ]
     },
     "execution_count": 38,
     "metadata": {},
     "output_type": "execute_result"
    }
   ],
   "source": [
    "data=pd.read_csv(\"C:/Users/frame/OneDrive\\Desktop\\CSV-Hall-of-fame-train.csv\") #substitute this with path of the dataset on your device\n",
    "data.head()"
   ]
  },
  {
   "cell_type": "code",
   "execution_count": 39,
   "metadata": {},
   "outputs": [
    {
     "name": "stdout",
     "output_type": "stream",
     "text": [
      "[[1.0000e+00 4.0800e+02 9.8250e+03 ... 1.0000e+00 1.4000e+01 0.0000e+00]\n",
      " [1.0000e+00 5.1000e+01 9.3500e+02 ... 1.0000e+00 5.5000e+01 0.0000e+00]\n",
      " [1.0000e+00 2.6500e+02 1.0000e+00 ... 1.0000e+00 5.4000e+01 0.0000e+00]\n",
      " ...\n",
      " [1.0000e+00 8.1400e+02 1.9241e+04 ... 1.0000e+00 3.0000e+01 0.0000e+00]\n",
      " [1.0000e+00 9.8000e+01 1.2200e+03 ... 1.0000e+00 2.0000e+00 0.0000e+00]\n",
      " [1.0000e+00 9.9000e+01 1.3010e+03 ... 1.0000e+00 4.8000e+01 0.0000e+00]]\n"
     ]
    }
   ],
   "source": [
    "imp = KNNImputer(n_neighbors=2, weights=\"uniform\")\n",
    "print(imp.fit_transform(data))"
   ]
  },
  {
   "cell_type": "code",
   "execution_count": 40,
   "metadata": {},
   "outputs": [
    {
     "data": {
      "text/html": [
       "<div>\n",
       "<style scoped>\n",
       "    .dataframe tbody tr th:only-of-type {\n",
       "        vertical-align: middle;\n",
       "    }\n",
       "\n",
       "    .dataframe tbody tr th {\n",
       "        vertical-align: top;\n",
       "    }\n",
       "\n",
       "    .dataframe thead th {\n",
       "        text-align: right;\n",
       "    }\n",
       "</style>\n",
       "<table border=\"1\" class=\"dataframe\">\n",
       "  <thead>\n",
       "    <tr style=\"text-align: right;\">\n",
       "      <th></th>\n",
       "      <th>league</th>\n",
       "      <th>games</th>\n",
       "      <th>minutes</th>\n",
       "      <th>pts</th>\n",
       "      <th>offReb</th>\n",
       "      <th>defReb</th>\n",
       "      <th>reb</th>\n",
       "      <th>asts</th>\n",
       "      <th>stl</th>\n",
       "      <th>blk</th>\n",
       "      <th>...</th>\n",
       "      <th>ftm</th>\n",
       "      <th>tpa</th>\n",
       "      <th>tpm</th>\n",
       "      <th>totalSeasons</th>\n",
       "      <th>Position</th>\n",
       "      <th>firstSeason</th>\n",
       "      <th>lastSeason</th>\n",
       "      <th>careerEnded</th>\n",
       "      <th>yrsRetired2004</th>\n",
       "      <th>class</th>\n",
       "    </tr>\n",
       "  </thead>\n",
       "  <tbody>\n",
       "    <tr>\n",
       "      <th>0</th>\n",
       "      <td>1.0</td>\n",
       "      <td>408.0</td>\n",
       "      <td>9825.0</td>\n",
       "      <td>5232.0</td>\n",
       "      <td>476.0</td>\n",
       "      <td>824.0</td>\n",
       "      <td>1300.0</td>\n",
       "      <td>866.0</td>\n",
       "      <td>265.0</td>\n",
       "      <td>175.0</td>\n",
       "      <td>...</td>\n",
       "      <td>1125.0</td>\n",
       "      <td>153.0</td>\n",
       "      <td>45.0</td>\n",
       "      <td>9.0</td>\n",
       "      <td>1.0</td>\n",
       "      <td>1982.0</td>\n",
       "      <td>1990.0</td>\n",
       "      <td>1.0</td>\n",
       "      <td>14.0</td>\n",
       "      <td>0.0</td>\n",
       "    </tr>\n",
       "    <tr>\n",
       "      <th>1</th>\n",
       "      <td>1.0</td>\n",
       "      <td>51.0</td>\n",
       "      <td>935.0</td>\n",
       "      <td>587.0</td>\n",
       "      <td>77.0</td>\n",
       "      <td>149.0</td>\n",
       "      <td>188.5</td>\n",
       "      <td>158.0</td>\n",
       "      <td>77.5</td>\n",
       "      <td>13.0</td>\n",
       "      <td>...</td>\n",
       "      <td>143.0</td>\n",
       "      <td>13.0</td>\n",
       "      <td>2.5</td>\n",
       "      <td>1.0</td>\n",
       "      <td>1.0</td>\n",
       "      <td>1949.0</td>\n",
       "      <td>1949.0</td>\n",
       "      <td>1.0</td>\n",
       "      <td>55.0</td>\n",
       "      <td>0.0</td>\n",
       "    </tr>\n",
       "    <tr>\n",
       "      <th>2</th>\n",
       "      <td>1.0</td>\n",
       "      <td>265.0</td>\n",
       "      <td>1.0</td>\n",
       "      <td>1712.0</td>\n",
       "      <td>175.0</td>\n",
       "      <td>311.0</td>\n",
       "      <td>72.0</td>\n",
       "      <td>311.0</td>\n",
       "      <td>264.0</td>\n",
       "      <td>32.5</td>\n",
       "      <td>...</td>\n",
       "      <td>402.0</td>\n",
       "      <td>361.0</td>\n",
       "      <td>103.0</td>\n",
       "      <td>5.0</td>\n",
       "      <td>1.0</td>\n",
       "      <td>1946.0</td>\n",
       "      <td>1950.0</td>\n",
       "      <td>1.0</td>\n",
       "      <td>54.0</td>\n",
       "      <td>0.0</td>\n",
       "    </tr>\n",
       "    <tr>\n",
       "      <th>3</th>\n",
       "      <td>1.0</td>\n",
       "      <td>133.0</td>\n",
       "      <td>2587.0</td>\n",
       "      <td>992.0</td>\n",
       "      <td>55.0</td>\n",
       "      <td>198.0</td>\n",
       "      <td>253.0</td>\n",
       "      <td>291.0</td>\n",
       "      <td>123.0</td>\n",
       "      <td>14.0</td>\n",
       "      <td>...</td>\n",
       "      <td>102.0</td>\n",
       "      <td>349.0</td>\n",
       "      <td>134.0</td>\n",
       "      <td>2.0</td>\n",
       "      <td>1.0</td>\n",
       "      <td>2003.0</td>\n",
       "      <td>2004.0</td>\n",
       "      <td>1.0</td>\n",
       "      <td>49.5</td>\n",
       "      <td>0.0</td>\n",
       "    </tr>\n",
       "    <tr>\n",
       "      <th>4</th>\n",
       "      <td>1.0</td>\n",
       "      <td>8.0</td>\n",
       "      <td>28.0</td>\n",
       "      <td>7.0</td>\n",
       "      <td>1.5</td>\n",
       "      <td>2.0</td>\n",
       "      <td>2.0</td>\n",
       "      <td>2.0</td>\n",
       "      <td>1.0</td>\n",
       "      <td>2.0</td>\n",
       "      <td>...</td>\n",
       "      <td>3.0</td>\n",
       "      <td>3.0</td>\n",
       "      <td>2.0</td>\n",
       "      <td>1.0</td>\n",
       "      <td>1.0</td>\n",
       "      <td>2004.0</td>\n",
       "      <td>2004.0</td>\n",
       "      <td>1.0</td>\n",
       "      <td>7.5</td>\n",
       "      <td>0.0</td>\n",
       "    </tr>\n",
       "  </tbody>\n",
       "</table>\n",
       "<p>5 rows × 25 columns</p>\n",
       "</div>"
      ],
      "text/plain": [
       "   league  games  minutes     pts  offReb  defReb     reb   asts    stl  \\\n",
       "0     1.0  408.0   9825.0  5232.0   476.0   824.0  1300.0  866.0  265.0   \n",
       "1     1.0   51.0    935.0   587.0    77.0   149.0   188.5  158.0   77.5   \n",
       "2     1.0  265.0      1.0  1712.0   175.0   311.0    72.0  311.0  264.0   \n",
       "3     1.0  133.0   2587.0   992.0    55.0   198.0   253.0  291.0  123.0   \n",
       "4     1.0    8.0     28.0     7.0     1.5     2.0     2.0    2.0    1.0   \n",
       "\n",
       "     blk  ...     ftm    tpa    tpm  totalSeasons  Position  firstSeason  \\\n",
       "0  175.0  ...  1125.0  153.0   45.0           9.0       1.0       1982.0   \n",
       "1   13.0  ...   143.0   13.0    2.5           1.0       1.0       1949.0   \n",
       "2   32.5  ...   402.0  361.0  103.0           5.0       1.0       1946.0   \n",
       "3   14.0  ...   102.0  349.0  134.0           2.0       1.0       2003.0   \n",
       "4    2.0  ...     3.0    3.0    2.0           1.0       1.0       2004.0   \n",
       "\n",
       "   lastSeason  careerEnded  yrsRetired2004  class  \n",
       "0      1990.0          1.0            14.0    0.0  \n",
       "1      1949.0          1.0            55.0    0.0  \n",
       "2      1950.0          1.0            54.0    0.0  \n",
       "3      2004.0          1.0            49.5    0.0  \n",
       "4      2004.0          1.0             7.5    0.0  \n",
       "\n",
       "[5 rows x 25 columns]"
      ]
     },
     "execution_count": 40,
     "metadata": {},
     "output_type": "execute_result"
    }
   ],
   "source": [
    "idf = pd.DataFrame(imp.fit_transform(data))\n",
    "idf.columns=data.columns\n",
    "idf.index=data.index\n",
    "idf.head()"
   ]
  },
  {
   "cell_type": "code",
   "execution_count": 41,
   "metadata": {},
   "outputs": [
    {
     "name": "stdout",
     "output_type": "stream",
     "text": [
      "<class 'pandas.core.frame.DataFrame'>\n",
      "RangeIndex: 495 entries, 0 to 494\n",
      "Data columns (total 25 columns):\n",
      " #   Column          Non-Null Count  Dtype  \n",
      "---  ------          --------------  -----  \n",
      " 0   league          495 non-null    float64\n",
      " 1   games           495 non-null    float64\n",
      " 2   minutes         495 non-null    float64\n",
      " 3   pts             495 non-null    float64\n",
      " 4   offReb          495 non-null    float64\n",
      " 5   defReb          495 non-null    float64\n",
      " 6   reb             495 non-null    float64\n",
      " 7   asts            495 non-null    float64\n",
      " 8   stl             495 non-null    float64\n",
      " 9   blk             495 non-null    float64\n",
      " 10  turnover        495 non-null    float64\n",
      " 11  pf              495 non-null    float64\n",
      " 12  fga             495 non-null    float64\n",
      " 13  fgm             495 non-null    float64\n",
      " 14  fta             495 non-null    float64\n",
      " 15  ftm             495 non-null    float64\n",
      " 16  tpa             495 non-null    float64\n",
      " 17  tpm             495 non-null    float64\n",
      " 18  totalSeasons    495 non-null    float64\n",
      " 19  Position        495 non-null    float64\n",
      " 20  firstSeason     495 non-null    float64\n",
      " 21  lastSeason      495 non-null    float64\n",
      " 22  careerEnded     495 non-null    float64\n",
      " 23  yrsRetired2004  495 non-null    float64\n",
      " 24  class           495 non-null    float64\n",
      "dtypes: float64(25)\n",
      "memory usage: 96.8 KB\n"
     ]
    }
   ],
   "source": [
    "data = idf\n",
    "data.info()"
   ]
  },
  {
   "cell_type": "code",
   "execution_count": 42,
   "metadata": {},
   "outputs": [
    {
     "data": {
      "text/html": [
       "<div>\n",
       "<style scoped>\n",
       "    .dataframe tbody tr th:only-of-type {\n",
       "        vertical-align: middle;\n",
       "    }\n",
       "\n",
       "    .dataframe tbody tr th {\n",
       "        vertical-align: top;\n",
       "    }\n",
       "\n",
       "    .dataframe thead th {\n",
       "        text-align: right;\n",
       "    }\n",
       "</style>\n",
       "<table border=\"1\" class=\"dataframe\">\n",
       "  <thead>\n",
       "    <tr style=\"text-align: right;\">\n",
       "      <th></th>\n",
       "      <th>league</th>\n",
       "      <th>games</th>\n",
       "      <th>minutes</th>\n",
       "      <th>pts</th>\n",
       "      <th>offReb</th>\n",
       "      <th>defReb</th>\n",
       "      <th>reb</th>\n",
       "      <th>asts</th>\n",
       "      <th>stl</th>\n",
       "      <th>blk</th>\n",
       "      <th>...</th>\n",
       "      <th>ftm</th>\n",
       "      <th>tpa</th>\n",
       "      <th>tpm</th>\n",
       "      <th>totalSeasons</th>\n",
       "      <th>Position</th>\n",
       "      <th>firstSeason</th>\n",
       "      <th>lastSeason</th>\n",
       "      <th>careerEnded</th>\n",
       "      <th>yrsRetired2004</th>\n",
       "      <th>class</th>\n",
       "    </tr>\n",
       "  </thead>\n",
       "  <tbody>\n",
       "    <tr>\n",
       "      <th>count</th>\n",
       "      <td>495.000000</td>\n",
       "      <td>495.000000</td>\n",
       "      <td>495.000000</td>\n",
       "      <td>495.000000</td>\n",
       "      <td>495.000000</td>\n",
       "      <td>495.000000</td>\n",
       "      <td>495.000000</td>\n",
       "      <td>495.000000</td>\n",
       "      <td>495.000000</td>\n",
       "      <td>495.000000</td>\n",
       "      <td>...</td>\n",
       "      <td>495.000000</td>\n",
       "      <td>495.000000</td>\n",
       "      <td>495.000000</td>\n",
       "      <td>495.000000</td>\n",
       "      <td>495.000000</td>\n",
       "      <td>495.000000</td>\n",
       "      <td>495.000000</td>\n",
       "      <td>495.0</td>\n",
       "      <td>495.000000</td>\n",
       "      <td>495.000000</td>\n",
       "    </tr>\n",
       "    <tr>\n",
       "      <th>mean</th>\n",
       "      <td>0.860606</td>\n",
       "      <td>279.462626</td>\n",
       "      <td>6946.015152</td>\n",
       "      <td>3249.532323</td>\n",
       "      <td>335.208081</td>\n",
       "      <td>716.220202</td>\n",
       "      <td>1388.336364</td>\n",
       "      <td>731.658586</td>\n",
       "      <td>211.879798</td>\n",
       "      <td>117.340404</td>\n",
       "      <td>...</td>\n",
       "      <td>713.523232</td>\n",
       "      <td>213.818182</td>\n",
       "      <td>79.621212</td>\n",
       "      <td>5.357576</td>\n",
       "      <td>1.957576</td>\n",
       "      <td>1974.947475</td>\n",
       "      <td>1979.305051</td>\n",
       "      <td>1.0</td>\n",
       "      <td>27.418182</td>\n",
       "      <td>0.090909</td>\n",
       "    </tr>\n",
       "    <tr>\n",
       "      <th>std</th>\n",
       "      <td>0.346708</td>\n",
       "      <td>303.704033</td>\n",
       "      <td>9687.577828</td>\n",
       "      <td>5068.871384</td>\n",
       "      <td>636.867177</td>\n",
       "      <td>1207.201084</td>\n",
       "      <td>2579.085462</td>\n",
       "      <td>1293.805720</td>\n",
       "      <td>308.812715</td>\n",
       "      <td>244.338148</td>\n",
       "      <td>...</td>\n",
       "      <td>1185.164303</td>\n",
       "      <td>508.567204</td>\n",
       "      <td>185.759818</td>\n",
       "      <td>4.461647</td>\n",
       "      <td>0.915575</td>\n",
       "      <td>16.935973</td>\n",
       "      <td>17.555634</td>\n",
       "      <td>0.0</td>\n",
       "      <td>16.109974</td>\n",
       "      <td>0.287771</td>\n",
       "    </tr>\n",
       "    <tr>\n",
       "      <th>min</th>\n",
       "      <td>0.000000</td>\n",
       "      <td>1.000000</td>\n",
       "      <td>1.000000</td>\n",
       "      <td>1.000000</td>\n",
       "      <td>1.000000</td>\n",
       "      <td>1.000000</td>\n",
       "      <td>1.000000</td>\n",
       "      <td>1.000000</td>\n",
       "      <td>1.000000</td>\n",
       "      <td>1.000000</td>\n",
       "      <td>...</td>\n",
       "      <td>1.000000</td>\n",
       "      <td>1.000000</td>\n",
       "      <td>1.000000</td>\n",
       "      <td>1.000000</td>\n",
       "      <td>1.000000</td>\n",
       "      <td>1946.000000</td>\n",
       "      <td>1946.000000</td>\n",
       "      <td>1.0</td>\n",
       "      <td>1.000000</td>\n",
       "      <td>0.000000</td>\n",
       "    </tr>\n",
       "    <tr>\n",
       "      <th>25%</th>\n",
       "      <td>1.000000</td>\n",
       "      <td>46.000000</td>\n",
       "      <td>402.000000</td>\n",
       "      <td>143.000000</td>\n",
       "      <td>26.500000</td>\n",
       "      <td>48.000000</td>\n",
       "      <td>72.250000</td>\n",
       "      <td>29.000000</td>\n",
       "      <td>14.000000</td>\n",
       "      <td>4.500000</td>\n",
       "      <td>...</td>\n",
       "      <td>29.000000</td>\n",
       "      <td>5.000000</td>\n",
       "      <td>2.000000</td>\n",
       "      <td>1.000000</td>\n",
       "      <td>1.000000</td>\n",
       "      <td>1963.000000</td>\n",
       "      <td>1968.000000</td>\n",
       "      <td>1.0</td>\n",
       "      <td>14.000000</td>\n",
       "      <td>0.000000</td>\n",
       "    </tr>\n",
       "    <tr>\n",
       "      <th>50%</th>\n",
       "      <td>1.000000</td>\n",
       "      <td>151.000000</td>\n",
       "      <td>2222.000000</td>\n",
       "      <td>907.000000</td>\n",
       "      <td>99.000000</td>\n",
       "      <td>246.000000</td>\n",
       "      <td>395.000000</td>\n",
       "      <td>190.000000</td>\n",
       "      <td>73.000000</td>\n",
       "      <td>23.000000</td>\n",
       "      <td>...</td>\n",
       "      <td>199.000000</td>\n",
       "      <td>18.000000</td>\n",
       "      <td>9.000000</td>\n",
       "      <td>4.000000</td>\n",
       "      <td>2.000000</td>\n",
       "      <td>1974.000000</td>\n",
       "      <td>1979.000000</td>\n",
       "      <td>1.0</td>\n",
       "      <td>27.000000</td>\n",
       "      <td>0.000000</td>\n",
       "    </tr>\n",
       "    <tr>\n",
       "      <th>75%</th>\n",
       "      <td>1.000000</td>\n",
       "      <td>439.000000</td>\n",
       "      <td>10102.500000</td>\n",
       "      <td>4115.000000</td>\n",
       "      <td>367.000000</td>\n",
       "      <td>864.500000</td>\n",
       "      <td>1632.000000</td>\n",
       "      <td>881.500000</td>\n",
       "      <td>296.500000</td>\n",
       "      <td>107.250000</td>\n",
       "      <td>...</td>\n",
       "      <td>798.000000</td>\n",
       "      <td>140.000000</td>\n",
       "      <td>54.000000</td>\n",
       "      <td>9.000000</td>\n",
       "      <td>3.000000</td>\n",
       "      <td>1989.000000</td>\n",
       "      <td>1995.000000</td>\n",
       "      <td>1.0</td>\n",
       "      <td>37.000000</td>\n",
       "      <td>0.000000</td>\n",
       "    </tr>\n",
       "    <tr>\n",
       "      <th>max</th>\n",
       "      <td>1.000000</td>\n",
       "      <td>1611.000000</td>\n",
       "      <td>47859.000000</td>\n",
       "      <td>31419.000000</td>\n",
       "      <td>6731.000000</td>\n",
       "      <td>10117.000000</td>\n",
       "      <td>23924.000000</td>\n",
       "      <td>9887.000000</td>\n",
       "      <td>2207.000000</td>\n",
       "      <td>2361.000000</td>\n",
       "      <td>...</td>\n",
       "      <td>8531.000000</td>\n",
       "      <td>3434.000000</td>\n",
       "      <td>1301.000000</td>\n",
       "      <td>21.000000</td>\n",
       "      <td>3.000000</td>\n",
       "      <td>2004.000000</td>\n",
       "      <td>2004.000000</td>\n",
       "      <td>1.0</td>\n",
       "      <td>58.000000</td>\n",
       "      <td>1.000000</td>\n",
       "    </tr>\n",
       "  </tbody>\n",
       "</table>\n",
       "<p>8 rows × 25 columns</p>\n",
       "</div>"
      ],
      "text/plain": [
       "           league        games       minutes           pts       offReb  \\\n",
       "count  495.000000   495.000000    495.000000    495.000000   495.000000   \n",
       "mean     0.860606   279.462626   6946.015152   3249.532323   335.208081   \n",
       "std      0.346708   303.704033   9687.577828   5068.871384   636.867177   \n",
       "min      0.000000     1.000000      1.000000      1.000000     1.000000   \n",
       "25%      1.000000    46.000000    402.000000    143.000000    26.500000   \n",
       "50%      1.000000   151.000000   2222.000000    907.000000    99.000000   \n",
       "75%      1.000000   439.000000  10102.500000   4115.000000   367.000000   \n",
       "max      1.000000  1611.000000  47859.000000  31419.000000  6731.000000   \n",
       "\n",
       "             defReb           reb         asts          stl          blk  ...  \\\n",
       "count    495.000000    495.000000   495.000000   495.000000   495.000000  ...   \n",
       "mean     716.220202   1388.336364   731.658586   211.879798   117.340404  ...   \n",
       "std     1207.201084   2579.085462  1293.805720   308.812715   244.338148  ...   \n",
       "min        1.000000      1.000000     1.000000     1.000000     1.000000  ...   \n",
       "25%       48.000000     72.250000    29.000000    14.000000     4.500000  ...   \n",
       "50%      246.000000    395.000000   190.000000    73.000000    23.000000  ...   \n",
       "75%      864.500000   1632.000000   881.500000   296.500000   107.250000  ...   \n",
       "max    10117.000000  23924.000000  9887.000000  2207.000000  2361.000000  ...   \n",
       "\n",
       "               ftm          tpa          tpm  totalSeasons    Position  \\\n",
       "count   495.000000   495.000000   495.000000    495.000000  495.000000   \n",
       "mean    713.523232   213.818182    79.621212      5.357576    1.957576   \n",
       "std    1185.164303   508.567204   185.759818      4.461647    0.915575   \n",
       "min       1.000000     1.000000     1.000000      1.000000    1.000000   \n",
       "25%      29.000000     5.000000     2.000000      1.000000    1.000000   \n",
       "50%     199.000000    18.000000     9.000000      4.000000    2.000000   \n",
       "75%     798.000000   140.000000    54.000000      9.000000    3.000000   \n",
       "max    8531.000000  3434.000000  1301.000000     21.000000    3.000000   \n",
       "\n",
       "       firstSeason   lastSeason  careerEnded  yrsRetired2004       class  \n",
       "count   495.000000   495.000000        495.0      495.000000  495.000000  \n",
       "mean   1974.947475  1979.305051          1.0       27.418182    0.090909  \n",
       "std      16.935973    17.555634          0.0       16.109974    0.287771  \n",
       "min    1946.000000  1946.000000          1.0        1.000000    0.000000  \n",
       "25%    1963.000000  1968.000000          1.0       14.000000    0.000000  \n",
       "50%    1974.000000  1979.000000          1.0       27.000000    0.000000  \n",
       "75%    1989.000000  1995.000000          1.0       37.000000    0.000000  \n",
       "max    2004.000000  2004.000000          1.0       58.000000    1.000000  \n",
       "\n",
       "[8 rows x 25 columns]"
      ]
     },
     "execution_count": 42,
     "metadata": {},
     "output_type": "execute_result"
    }
   ],
   "source": [
    "data.describe()"
   ]
  },
  {
   "cell_type": "markdown",
   "metadata": {},
   "source": [
    " "
   ]
  },
  {
   "cell_type": "code",
   "execution_count": 43,
   "metadata": {
    "scrolled": true
   },
   "outputs": [
    {
     "data": {
      "image/png": "[encoded data removed]",
      "text/plain": [
       "<Figure size 432x288 with 1 Axes>"
      ]
     },
     "metadata": {},
     "output_type": "display_data"
    }
   ],
   "source": [
    "sns.countplot(x=\"class\", data=data)\n",
    "plt.show()"
   ]
  },
  {
   "cell_type": "markdown",
   "metadata": {},
   "source": [
    "Targer class is heavily unbalanced."
   ]
  },
  {
   "cell_type": "code",
   "execution_count": 44,
   "metadata": {},
   "outputs": [
    {
     "data": {
      "text/html": [
       "<div>\n",
       "<style scoped>\n",
       "    .dataframe tbody tr th:only-of-type {\n",
       "        vertical-align: middle;\n",
       "    }\n",
       "\n",
       "    .dataframe tbody tr th {\n",
       "        vertical-align: top;\n",
       "    }\n",
       "\n",
       "    .dataframe thead th {\n",
       "        text-align: right;\n",
       "    }\n",
       "</style>\n",
       "<table border=\"1\" class=\"dataframe\">\n",
       "  <thead>\n",
       "    <tr style=\"text-align: right;\">\n",
       "      <th></th>\n",
       "      <th>league</th>\n",
       "      <th>games</th>\n",
       "      <th>minutes</th>\n",
       "      <th>pts</th>\n",
       "      <th>offReb</th>\n",
       "      <th>defReb</th>\n",
       "      <th>reb</th>\n",
       "      <th>asts</th>\n",
       "      <th>stl</th>\n",
       "      <th>blk</th>\n",
       "      <th>...</th>\n",
       "      <th>ftm</th>\n",
       "      <th>tpa</th>\n",
       "      <th>tpm</th>\n",
       "      <th>totalSeasons</th>\n",
       "      <th>Position</th>\n",
       "      <th>firstSeason</th>\n",
       "      <th>lastSeason</th>\n",
       "      <th>careerEnded</th>\n",
       "      <th>yrsRetired2004</th>\n",
       "      <th>class</th>\n",
       "    </tr>\n",
       "  </thead>\n",
       "  <tbody>\n",
       "    <tr>\n",
       "      <th>0</th>\n",
       "      <td>1.0</td>\n",
       "      <td>408.000000</td>\n",
       "      <td>9825.000000</td>\n",
       "      <td>5232.000000</td>\n",
       "      <td>476.000000</td>\n",
       "      <td>824.000000</td>\n",
       "      <td>1300.000000</td>\n",
       "      <td>866.000000</td>\n",
       "      <td>265.000000</td>\n",
       "      <td>175.000000</td>\n",
       "      <td>...</td>\n",
       "      <td>1125.000000</td>\n",
       "      <td>153.000000</td>\n",
       "      <td>45.000000</td>\n",
       "      <td>9.000000</td>\n",
       "      <td>1.000000</td>\n",
       "      <td>1982.000000</td>\n",
       "      <td>1990.000000</td>\n",
       "      <td>1.0</td>\n",
       "      <td>14.000000</td>\n",
       "      <td>0.0</td>\n",
       "    </tr>\n",
       "    <tr>\n",
       "      <th>1</th>\n",
       "      <td>1.0</td>\n",
       "      <td>51.000000</td>\n",
       "      <td>935.000000</td>\n",
       "      <td>587.000000</td>\n",
       "      <td>77.000000</td>\n",
       "      <td>149.000000</td>\n",
       "      <td>188.500000</td>\n",
       "      <td>158.000000</td>\n",
       "      <td>77.500000</td>\n",
       "      <td>13.000000</td>\n",
       "      <td>...</td>\n",
       "      <td>143.000000</td>\n",
       "      <td>13.000000</td>\n",
       "      <td>2.500000</td>\n",
       "      <td>1.000000</td>\n",
       "      <td>1.000000</td>\n",
       "      <td>1949.000000</td>\n",
       "      <td>1949.000000</td>\n",
       "      <td>1.0</td>\n",
       "      <td>55.000000</td>\n",
       "      <td>0.0</td>\n",
       "    </tr>\n",
       "    <tr>\n",
       "      <th>2</th>\n",
       "      <td>1.0</td>\n",
       "      <td>265.000000</td>\n",
       "      <td>1.000000</td>\n",
       "      <td>1712.000000</td>\n",
       "      <td>175.000000</td>\n",
       "      <td>311.000000</td>\n",
       "      <td>72.000000</td>\n",
       "      <td>311.000000</td>\n",
       "      <td>264.000000</td>\n",
       "      <td>32.500000</td>\n",
       "      <td>...</td>\n",
       "      <td>402.000000</td>\n",
       "      <td>361.000000</td>\n",
       "      <td>103.000000</td>\n",
       "      <td>5.000000</td>\n",
       "      <td>1.000000</td>\n",
       "      <td>1946.000000</td>\n",
       "      <td>1950.000000</td>\n",
       "      <td>1.0</td>\n",
       "      <td>54.000000</td>\n",
       "      <td>0.0</td>\n",
       "    </tr>\n",
       "    <tr>\n",
       "      <th>3</th>\n",
       "      <td>1.0</td>\n",
       "      <td>133.000000</td>\n",
       "      <td>2587.000000</td>\n",
       "      <td>992.000000</td>\n",
       "      <td>55.000000</td>\n",
       "      <td>198.000000</td>\n",
       "      <td>253.000000</td>\n",
       "      <td>291.000000</td>\n",
       "      <td>123.000000</td>\n",
       "      <td>14.000000</td>\n",
       "      <td>...</td>\n",
       "      <td>102.000000</td>\n",
       "      <td>349.000000</td>\n",
       "      <td>134.000000</td>\n",
       "      <td>2.000000</td>\n",
       "      <td>1.000000</td>\n",
       "      <td>2003.000000</td>\n",
       "      <td>2004.000000</td>\n",
       "      <td>1.0</td>\n",
       "      <td>49.500000</td>\n",
       "      <td>0.0</td>\n",
       "    </tr>\n",
       "    <tr>\n",
       "      <th>4</th>\n",
       "      <td>1.0</td>\n",
       "      <td>8.000000</td>\n",
       "      <td>28.000000</td>\n",
       "      <td>7.000000</td>\n",
       "      <td>1.500000</td>\n",
       "      <td>2.000000</td>\n",
       "      <td>2.000000</td>\n",
       "      <td>2.000000</td>\n",
       "      <td>1.000000</td>\n",
       "      <td>2.000000</td>\n",
       "      <td>...</td>\n",
       "      <td>3.000000</td>\n",
       "      <td>3.000000</td>\n",
       "      <td>2.000000</td>\n",
       "      <td>1.000000</td>\n",
       "      <td>1.000000</td>\n",
       "      <td>2004.000000</td>\n",
       "      <td>2004.000000</td>\n",
       "      <td>1.0</td>\n",
       "      <td>7.500000</td>\n",
       "      <td>0.0</td>\n",
       "    </tr>\n",
       "    <tr>\n",
       "      <th>...</th>\n",
       "      <td>...</td>\n",
       "      <td>...</td>\n",
       "      <td>...</td>\n",
       "      <td>...</td>\n",
       "      <td>...</td>\n",
       "      <td>...</td>\n",
       "      <td>...</td>\n",
       "      <td>...</td>\n",
       "      <td>...</td>\n",
       "      <td>...</td>\n",
       "      <td>...</td>\n",
       "      <td>...</td>\n",
       "      <td>...</td>\n",
       "      <td>...</td>\n",
       "      <td>...</td>\n",
       "      <td>...</td>\n",
       "      <td>...</td>\n",
       "      <td>...</td>\n",
       "      <td>...</td>\n",
       "      <td>...</td>\n",
       "      <td>...</td>\n",
       "    </tr>\n",
       "    <tr>\n",
       "      <th>895</th>\n",
       "      <td>0.0</td>\n",
       "      <td>105.717580</td>\n",
       "      <td>3458.833173</td>\n",
       "      <td>2094.630373</td>\n",
       "      <td>139.533800</td>\n",
       "      <td>229.577947</td>\n",
       "      <td>920.486009</td>\n",
       "      <td>551.002366</td>\n",
       "      <td>177.784391</td>\n",
       "      <td>18.896778</td>\n",
       "      <td>...</td>\n",
       "      <td>518.175799</td>\n",
       "      <td>32.696098</td>\n",
       "      <td>33.929001</td>\n",
       "      <td>12.402148</td>\n",
       "      <td>3.000000</td>\n",
       "      <td>1960.793555</td>\n",
       "      <td>1972.195704</td>\n",
       "      <td>1.0</td>\n",
       "      <td>31.804296</td>\n",
       "      <td>1.0</td>\n",
       "    </tr>\n",
       "    <tr>\n",
       "      <th>896</th>\n",
       "      <td>1.0</td>\n",
       "      <td>896.579875</td>\n",
       "      <td>32335.064663</td>\n",
       "      <td>14146.108673</td>\n",
       "      <td>281.907007</td>\n",
       "      <td>914.934486</td>\n",
       "      <td>10793.012061</td>\n",
       "      <td>2515.912699</td>\n",
       "      <td>81.063289</td>\n",
       "      <td>163.629839</td>\n",
       "      <td>...</td>\n",
       "      <td>2799.581816</td>\n",
       "      <td>66.662803</td>\n",
       "      <td>59.848647</td>\n",
       "      <td>12.484941</td>\n",
       "      <td>2.757529</td>\n",
       "      <td>1962.242471</td>\n",
       "      <td>1973.727412</td>\n",
       "      <td>1.0</td>\n",
       "      <td>30.272588</td>\n",
       "      <td>1.0</td>\n",
       "    </tr>\n",
       "    <tr>\n",
       "      <th>897</th>\n",
       "      <td>1.0</td>\n",
       "      <td>924.538486</td>\n",
       "      <td>30022.570331</td>\n",
       "      <td>17093.006156</td>\n",
       "      <td>317.729785</td>\n",
       "      <td>890.136080</td>\n",
       "      <td>4250.205970</td>\n",
       "      <td>6050.073501</td>\n",
       "      <td>476.653784</td>\n",
       "      <td>109.307892</td>\n",
       "      <td>...</td>\n",
       "      <td>4359.603147</td>\n",
       "      <td>96.983268</td>\n",
       "      <td>68.000000</td>\n",
       "      <td>18.115297</td>\n",
       "      <td>1.000000</td>\n",
       "      <td>1954.577135</td>\n",
       "      <td>1971.692432</td>\n",
       "      <td>1.0</td>\n",
       "      <td>32.307568</td>\n",
       "      <td>1.0</td>\n",
       "    </tr>\n",
       "    <tr>\n",
       "      <th>898</th>\n",
       "      <td>1.0</td>\n",
       "      <td>545.783236</td>\n",
       "      <td>16515.650953</td>\n",
       "      <td>8287.706204</td>\n",
       "      <td>648.352771</td>\n",
       "      <td>1444.944518</td>\n",
       "      <td>3759.343584</td>\n",
       "      <td>1705.653138</td>\n",
       "      <td>357.185249</td>\n",
       "      <td>154.904694</td>\n",
       "      <td>...</td>\n",
       "      <td>2309.998577</td>\n",
       "      <td>63.958256</td>\n",
       "      <td>19.313328</td>\n",
       "      <td>9.377284</td>\n",
       "      <td>3.000000</td>\n",
       "      <td>1962.095306</td>\n",
       "      <td>1970.472590</td>\n",
       "      <td>1.0</td>\n",
       "      <td>33.527410</td>\n",
       "      <td>1.0</td>\n",
       "    </tr>\n",
       "    <tr>\n",
       "      <th>899</th>\n",
       "      <td>1.0</td>\n",
       "      <td>1190.852382</td>\n",
       "      <td>38052.442550</td>\n",
       "      <td>25544.396646</td>\n",
       "      <td>2774.728395</td>\n",
       "      <td>3766.061502</td>\n",
       "      <td>6540.789896</td>\n",
       "      <td>4386.606305</td>\n",
       "      <td>1089.881165</td>\n",
       "      <td>830.711883</td>\n",
       "      <td>...</td>\n",
       "      <td>4285.449974</td>\n",
       "      <td>133.579418</td>\n",
       "      <td>34.237599</td>\n",
       "      <td>15.000000</td>\n",
       "      <td>2.959858</td>\n",
       "      <td>1976.140498</td>\n",
       "      <td>1990.140498</td>\n",
       "      <td>1.0</td>\n",
       "      <td>13.859502</td>\n",
       "      <td>1.0</td>\n",
       "    </tr>\n",
       "  </tbody>\n",
       "</table>\n",
       "<p>900 rows × 25 columns</p>\n",
       "</div>"
      ],
      "text/plain": [
       "     league        games       minutes           pts       offReb  \\\n",
       "0       1.0   408.000000   9825.000000   5232.000000   476.000000   \n",
       "1       1.0    51.000000    935.000000    587.000000    77.000000   \n",
       "2       1.0   265.000000      1.000000   1712.000000   175.000000   \n",
       "3       1.0   133.000000   2587.000000    992.000000    55.000000   \n",
       "4       1.0     8.000000     28.000000      7.000000     1.500000   \n",
       "..      ...          ...           ...           ...          ...   \n",
       "895     0.0   105.717580   3458.833173   2094.630373   139.533800   \n",
       "896     1.0   896.579875  32335.064663  14146.108673   281.907007   \n",
       "897     1.0   924.538486  30022.570331  17093.006156   317.729785   \n",
       "898     1.0   545.783236  16515.650953   8287.706204   648.352771   \n",
       "899     1.0  1190.852382  38052.442550  25544.396646  2774.728395   \n",
       "\n",
       "          defReb           reb         asts          stl         blk  ...  \\\n",
       "0     824.000000   1300.000000   866.000000   265.000000  175.000000  ...   \n",
       "1     149.000000    188.500000   158.000000    77.500000   13.000000  ...   \n",
       "2     311.000000     72.000000   311.000000   264.000000   32.500000  ...   \n",
       "3     198.000000    253.000000   291.000000   123.000000   14.000000  ...   \n",
       "4       2.000000      2.000000     2.000000     1.000000    2.000000  ...   \n",
       "..           ...           ...          ...          ...         ...  ...   \n",
       "895   229.577947    920.486009   551.002366   177.784391   18.896778  ...   \n",
       "896   914.934486  10793.012061  2515.912699    81.063289  163.629839  ...   \n",
       "897   890.136080   4250.205970  6050.073501   476.653784  109.307892  ...   \n",
       "898  1444.944518   3759.343584  1705.653138   357.185249  154.904694  ...   \n",
       "899  3766.061502   6540.789896  4386.606305  1089.881165  830.711883  ...   \n",
       "\n",
       "             ftm         tpa         tpm  totalSeasons  Position  firstSeason  \\\n",
       "0    1125.000000  153.000000   45.000000      9.000000  1.000000  1982.000000   \n",
       "1     143.000000   13.000000    2.500000      1.000000  1.000000  1949.000000   \n",
       "2     402.000000  361.000000  103.000000      5.000000  1.000000  1946.000000   \n",
       "3     102.000000  349.000000  134.000000      2.000000  1.000000  2003.000000   \n",
       "4       3.000000    3.000000    2.000000      1.000000  1.000000  2004.000000   \n",
       "..           ...         ...         ...           ...       ...          ...   \n",
       "895   518.175799   32.696098   33.929001     12.402148  3.000000  1960.793555   \n",
       "896  2799.581816   66.662803   59.848647     12.484941  2.757529  1962.242471   \n",
       "897  4359.603147   96.983268   68.000000     18.115297  1.000000  1954.577135   \n",
       "898  2309.998577   63.958256   19.313328      9.377284  3.000000  1962.095306   \n",
       "899  4285.449974  133.579418   34.237599     15.000000  2.959858  1976.140498   \n",
       "\n",
       "      lastSeason  careerEnded  yrsRetired2004  class  \n",
       "0    1990.000000          1.0       14.000000    0.0  \n",
       "1    1949.000000          1.0       55.000000    0.0  \n",
       "2    1950.000000          1.0       54.000000    0.0  \n",
       "3    2004.000000          1.0       49.500000    0.0  \n",
       "4    2004.000000          1.0        7.500000    0.0  \n",
       "..           ...          ...             ...    ...  \n",
       "895  1972.195704          1.0       31.804296    1.0  \n",
       "896  1973.727412          1.0       30.272588    1.0  \n",
       "897  1971.692432          1.0       32.307568    1.0  \n",
       "898  1970.472590          1.0       33.527410    1.0  \n",
       "899  1990.140498          1.0       13.859502    1.0  \n",
       "\n",
       "[900 rows x 25 columns]"
      ]
     },
     "execution_count": 44,
     "metadata": {},
     "output_type": "execute_result"
    }
   ],
   "source": [
    "sm = SMOTE(random_state=42)\n",
    "sm.fit_resample(data, data['class'])\n",
    "pd.DataFrame(sm.fit_resample(data, data['class'])[0])"
   ]
  },
  {
   "cell_type": "code",
   "execution_count": 45,
   "metadata": {},
   "outputs": [
    {
     "data": {
      "image/png": "[encoded data removed]",
      "text/plain": [
       "<Figure size 432x288 with 1 Axes>"
      ]
     },
     "metadata": {},
     "output_type": "display_data"
    }
   ],
   "source": [
    "data = pd.DataFrame(sm.fit_resample(data, data['class'])[0])\n",
    "sns.countplot(x=\"class\", data=data)\n",
    "plt.show()"
   ]
  },
  {
   "cell_type": "code",
   "execution_count": 112,
   "metadata": {},
   "outputs": [],
   "source": [
    "data.to_csv(r'C:/Users/frame/OneDrive/Desktop/Weka projects/NBA_data_fixed.csv', index=False)"
   ]
  },
  {
   "cell_type": "code",
   "execution_count": 46,
   "metadata": {
    "scrolled": true
   },
   "outputs": [
    {
     "data": {
      "image/png": "[encoded data removed]",
      "text/plain": [
       "<Figure size 800x800 with 1 Axes>"
      ]
     },
     "metadata": {},
     "output_type": "display_data"
    }
   ],
   "source": [
    "plt.figure(figsize=(10,10), dpi=80)\n",
    "sns.boxplot(data=data, orient=\"h\")\n",
    "plt.show()"
   ]
  },
  {
   "cell_type": "markdown",
   "metadata": {},
   "source": [
    "Boxplot graph is useful to show outliers."
   ]
  },
  {
   "cell_type": "code",
   "execution_count": 47,
   "metadata": {
    "scrolled": true
   },
   "outputs": [
    {
     "data": {
      "image/png": "[encoded data removed]",
      "text/plain": [
       "<Figure size 1080x1080 with 25 Axes>"
      ]
     },
     "metadata": {},
     "output_type": "display_data"
    }
   ],
   "source": [
    "data.hist(bins=50,figsize=(15,15), color='#58A4B0', )\n",
    "plt.show()"
   ]
  },
  {
   "cell_type": "markdown",
   "metadata": {},
   "source": [
    "Data is definetly not standardized."
   ]
  },
  {
   "cell_type": "code",
   "execution_count": 48,
   "metadata": {},
   "outputs": [
    {
     "data": {
      "text/plain": [
       "class             1.000000\n",
       "ftm               0.784146\n",
       "fta               0.772113\n",
       "pf                0.764651\n",
       "fga               0.764621\n",
       "pts               0.750183\n",
       "fgm               0.735406\n",
       "minutes           0.718829\n",
       "totalSeasons      0.716189\n",
       "games             0.706401\n",
       "asts              0.633031\n",
       "reb               0.610943\n",
       "turnover          0.589696\n",
       "stl               0.514398\n",
       "defReb            0.498579\n",
       "offReb            0.444082\n",
       "blk               0.431398\n",
       "tpm               0.247852\n",
       "tpa               0.228429\n",
       "yrsRetired2004    0.151676\n",
       "league            0.149410\n",
       "Position          0.033719\n",
       "lastSeason       -0.237358\n",
       "firstSeason      -0.466003\n",
       "careerEnded            NaN\n",
       "Name: class, dtype: float64"
      ]
     },
     "execution_count": 48,
     "metadata": {},
     "output_type": "execute_result"
    }
   ],
   "source": [
    "corr_matrix = data.corr()\n",
    "corr_matrix[\"class\"].sort_values(ascending=False)"
   ]
  },
  {
   "cell_type": "code",
   "execution_count": 49,
   "metadata": {
    "scrolled": true
   },
   "outputs": [
    {
     "data": {
      "image/png": "[encoded data removed]",
      "text/plain": [
       "<Figure size 910x910 with 2 Axes>"
      ]
     },
     "metadata": {},
     "output_type": "display_data"
    }
   ],
   "source": [
    "plt.figure(figsize=(13,13), dpi=70)\n",
    "sns.heatmap(corr_matrix, cmap=\"viridis\", annot=False)\n",
    "plt.show()"
   ]
  },
  {
   "cell_type": "markdown",
   "metadata": {},
   "source": [
    "I start dividing the sample data into features and targets:"
   ]
  },
  {
   "cell_type": "code",
   "execution_count": 50,
   "metadata": {},
   "outputs": [
    {
     "data": {
      "text/html": [
       "<div>\n",
       "<style scoped>\n",
       "    .dataframe tbody tr th:only-of-type {\n",
       "        vertical-align: middle;\n",
       "    }\n",
       "\n",
       "    .dataframe tbody tr th {\n",
       "        vertical-align: top;\n",
       "    }\n",
       "\n",
       "    .dataframe thead th {\n",
       "        text-align: right;\n",
       "    }\n",
       "</style>\n",
       "<table border=\"1\" class=\"dataframe\">\n",
       "  <thead>\n",
       "    <tr style=\"text-align: right;\">\n",
       "      <th></th>\n",
       "      <th>league</th>\n",
       "      <th>games</th>\n",
       "      <th>minutes</th>\n",
       "      <th>pts</th>\n",
       "      <th>offReb</th>\n",
       "      <th>defReb</th>\n",
       "      <th>reb</th>\n",
       "      <th>asts</th>\n",
       "      <th>stl</th>\n",
       "      <th>blk</th>\n",
       "      <th>...</th>\n",
       "      <th>fta</th>\n",
       "      <th>ftm</th>\n",
       "      <th>tpa</th>\n",
       "      <th>tpm</th>\n",
       "      <th>totalSeasons</th>\n",
       "      <th>Position</th>\n",
       "      <th>firstSeason</th>\n",
       "      <th>lastSeason</th>\n",
       "      <th>careerEnded</th>\n",
       "      <th>yrsRetired2004</th>\n",
       "    </tr>\n",
       "  </thead>\n",
       "  <tbody>\n",
       "    <tr>\n",
       "      <th>0</th>\n",
       "      <td>1.0</td>\n",
       "      <td>408.0</td>\n",
       "      <td>9825.0</td>\n",
       "      <td>5232.0</td>\n",
       "      <td>476.0</td>\n",
       "      <td>824.0</td>\n",
       "      <td>1300.0</td>\n",
       "      <td>866.0</td>\n",
       "      <td>265.0</td>\n",
       "      <td>175.0</td>\n",
       "      <td>...</td>\n",
       "      <td>1495.0</td>\n",
       "      <td>1125.0</td>\n",
       "      <td>153.0</td>\n",
       "      <td>45.0</td>\n",
       "      <td>9.0</td>\n",
       "      <td>1.0</td>\n",
       "      <td>1982.0</td>\n",
       "      <td>1990.0</td>\n",
       "      <td>1.0</td>\n",
       "      <td>14.0</td>\n",
       "    </tr>\n",
       "    <tr>\n",
       "      <th>1</th>\n",
       "      <td>1.0</td>\n",
       "      <td>51.0</td>\n",
       "      <td>935.0</td>\n",
       "      <td>587.0</td>\n",
       "      <td>77.0</td>\n",
       "      <td>149.0</td>\n",
       "      <td>188.5</td>\n",
       "      <td>158.0</td>\n",
       "      <td>77.5</td>\n",
       "      <td>13.0</td>\n",
       "      <td>...</td>\n",
       "      <td>181.0</td>\n",
       "      <td>143.0</td>\n",
       "      <td>13.0</td>\n",
       "      <td>2.5</td>\n",
       "      <td>1.0</td>\n",
       "      <td>1.0</td>\n",
       "      <td>1949.0</td>\n",
       "      <td>1949.0</td>\n",
       "      <td>1.0</td>\n",
       "      <td>55.0</td>\n",
       "    </tr>\n",
       "    <tr>\n",
       "      <th>2</th>\n",
       "      <td>1.0</td>\n",
       "      <td>265.0</td>\n",
       "      <td>1.0</td>\n",
       "      <td>1712.0</td>\n",
       "      <td>175.0</td>\n",
       "      <td>311.0</td>\n",
       "      <td>72.0</td>\n",
       "      <td>311.0</td>\n",
       "      <td>264.0</td>\n",
       "      <td>32.5</td>\n",
       "      <td>...</td>\n",
       "      <td>620.0</td>\n",
       "      <td>402.0</td>\n",
       "      <td>361.0</td>\n",
       "      <td>103.0</td>\n",
       "      <td>5.0</td>\n",
       "      <td>1.0</td>\n",
       "      <td>1946.0</td>\n",
       "      <td>1950.0</td>\n",
       "      <td>1.0</td>\n",
       "      <td>54.0</td>\n",
       "    </tr>\n",
       "    <tr>\n",
       "      <th>3</th>\n",
       "      <td>1.0</td>\n",
       "      <td>133.0</td>\n",
       "      <td>2587.0</td>\n",
       "      <td>992.0</td>\n",
       "      <td>55.0</td>\n",
       "      <td>198.0</td>\n",
       "      <td>253.0</td>\n",
       "      <td>291.0</td>\n",
       "      <td>123.0</td>\n",
       "      <td>14.0</td>\n",
       "      <td>...</td>\n",
       "      <td>130.0</td>\n",
       "      <td>102.0</td>\n",
       "      <td>349.0</td>\n",
       "      <td>134.0</td>\n",
       "      <td>2.0</td>\n",
       "      <td>1.0</td>\n",
       "      <td>2003.0</td>\n",
       "      <td>2004.0</td>\n",
       "      <td>1.0</td>\n",
       "      <td>49.5</td>\n",
       "    </tr>\n",
       "    <tr>\n",
       "      <th>4</th>\n",
       "      <td>1.0</td>\n",
       "      <td>8.0</td>\n",
       "      <td>28.0</td>\n",
       "      <td>7.0</td>\n",
       "      <td>1.5</td>\n",
       "      <td>2.0</td>\n",
       "      <td>2.0</td>\n",
       "      <td>2.0</td>\n",
       "      <td>1.0</td>\n",
       "      <td>2.0</td>\n",
       "      <td>...</td>\n",
       "      <td>5.0</td>\n",
       "      <td>3.0</td>\n",
       "      <td>3.0</td>\n",
       "      <td>2.0</td>\n",
       "      <td>1.0</td>\n",
       "      <td>1.0</td>\n",
       "      <td>2004.0</td>\n",
       "      <td>2004.0</td>\n",
       "      <td>1.0</td>\n",
       "      <td>7.5</td>\n",
       "    </tr>\n",
       "  </tbody>\n",
       "</table>\n",
       "<p>5 rows × 24 columns</p>\n",
       "</div>"
      ],
      "text/plain": [
       "   league  games  minutes     pts  offReb  defReb     reb   asts    stl  \\\n",
       "0     1.0  408.0   9825.0  5232.0   476.0   824.0  1300.0  866.0  265.0   \n",
       "1     1.0   51.0    935.0   587.0    77.0   149.0   188.5  158.0   77.5   \n",
       "2     1.0  265.0      1.0  1712.0   175.0   311.0    72.0  311.0  264.0   \n",
       "3     1.0  133.0   2587.0   992.0    55.0   198.0   253.0  291.0  123.0   \n",
       "4     1.0    8.0     28.0     7.0     1.5     2.0     2.0    2.0    1.0   \n",
       "\n",
       "     blk  ...     fta     ftm    tpa    tpm  totalSeasons  Position  \\\n",
       "0  175.0  ...  1495.0  1125.0  153.0   45.0           9.0       1.0   \n",
       "1   13.0  ...   181.0   143.0   13.0    2.5           1.0       1.0   \n",
       "2   32.5  ...   620.0   402.0  361.0  103.0           5.0       1.0   \n",
       "3   14.0  ...   130.0   102.0  349.0  134.0           2.0       1.0   \n",
       "4    2.0  ...     5.0     3.0    3.0    2.0           1.0       1.0   \n",
       "\n",
       "   firstSeason  lastSeason  careerEnded  yrsRetired2004  \n",
       "0       1982.0      1990.0          1.0            14.0  \n",
       "1       1949.0      1949.0          1.0            55.0  \n",
       "2       1946.0      1950.0          1.0            54.0  \n",
       "3       2003.0      2004.0          1.0            49.5  \n",
       "4       2004.0      2004.0          1.0             7.5  \n",
       "\n",
       "[5 rows x 24 columns]"
      ]
     },
     "execution_count": 50,
     "metadata": {},
     "output_type": "execute_result"
    }
   ],
   "source": [
    "df = data.iloc[:, :-1]\n",
    "df.head()"
   ]
  },
  {
   "cell_type": "code",
   "execution_count": 110,
   "metadata": {
    "scrolled": true
   },
   "outputs": [
    {
     "data": {
      "text/plain": [
       "0    0.0\n",
       "1    0.0\n",
       "2    0.0\n",
       "3    0.0\n",
       "4    0.0\n",
       "Name: class, dtype: float64"
      ]
     },
     "execution_count": 110,
     "metadata": {},
     "output_type": "execute_result"
    }
   ],
   "source": [
    "targets = data.iloc[:,-1]\n",
    "targets.head()"
   ]
  },
  {
   "cell_type": "markdown",
   "metadata": {},
   "source": [
    "# Data preparation\n"
   ]
  },
  {
   "cell_type": "code",
   "execution_count": 52,
   "metadata": {},
   "outputs": [],
   "source": [
    "pd.set_option('mode.chained_assignment',None) #to avoid display of chained assignment warning\n",
    "training_data, test_data = train_test_split(data, test_size=0.20)\n",
    "\n",
    "training_targets = training_data.iloc[:, -1] \n",
    "test_targets =  test_data.iloc[:, -1]\n",
    "\n",
    "training_data.drop(columns=[\"class\"], inplace=True)\n",
    "test_data.drop(columns=[\"class\"], inplace=True)"
   ]
  },
  {
   "cell_type": "markdown",
   "metadata": {},
   "source": [
    "I split the data set into training (80%) and test data (20%) "
   ]
  },
  {
   "cell_type": "code",
   "execution_count": 53,
   "metadata": {},
   "outputs": [
    {
     "data": {
      "text/html": [
       "<div>\n",
       "<style scoped>\n",
       "    .dataframe tbody tr th:only-of-type {\n",
       "        vertical-align: middle;\n",
       "    }\n",
       "\n",
       "    .dataframe tbody tr th {\n",
       "        vertical-align: top;\n",
       "    }\n",
       "\n",
       "    .dataframe thead th {\n",
       "        text-align: right;\n",
       "    }\n",
       "</style>\n",
       "<table border=\"1\" class=\"dataframe\">\n",
       "  <thead>\n",
       "    <tr style=\"text-align: right;\">\n",
       "      <th></th>\n",
       "      <th>league</th>\n",
       "      <th>games</th>\n",
       "      <th>minutes</th>\n",
       "      <th>pts</th>\n",
       "      <th>offReb</th>\n",
       "      <th>defReb</th>\n",
       "      <th>reb</th>\n",
       "      <th>asts</th>\n",
       "      <th>stl</th>\n",
       "      <th>blk</th>\n",
       "      <th>...</th>\n",
       "      <th>fta</th>\n",
       "      <th>ftm</th>\n",
       "      <th>tpa</th>\n",
       "      <th>tpm</th>\n",
       "      <th>totalSeasons</th>\n",
       "      <th>Position</th>\n",
       "      <th>firstSeason</th>\n",
       "      <th>lastSeason</th>\n",
       "      <th>careerEnded</th>\n",
       "      <th>yrsRetired2004</th>\n",
       "    </tr>\n",
       "  </thead>\n",
       "  <tbody>\n",
       "    <tr>\n",
       "      <th>321</th>\n",
       "      <td>1.000000</td>\n",
       "      <td>3.000000</td>\n",
       "      <td>13.000000</td>\n",
       "      <td>2.000000</td>\n",
       "      <td>1.500000</td>\n",
       "      <td>1.000000</td>\n",
       "      <td>1.000000</td>\n",
       "      <td>1.000000</td>\n",
       "      <td>1.500000</td>\n",
       "      <td>1.500000</td>\n",
       "      <td>...</td>\n",
       "      <td>2.000000</td>\n",
       "      <td>1.000000</td>\n",
       "      <td>1.000000</td>\n",
       "      <td>2.000000</td>\n",
       "      <td>1.000000</td>\n",
       "      <td>3.000000</td>\n",
       "      <td>2000.000000</td>\n",
       "      <td>2000.000000</td>\n",
       "      <td>1.0</td>\n",
       "      <td>4.000000</td>\n",
       "    </tr>\n",
       "    <tr>\n",
       "      <th>629</th>\n",
       "      <td>0.899222</td>\n",
       "      <td>465.449430</td>\n",
       "      <td>15845.909175</td>\n",
       "      <td>9324.922026</td>\n",
       "      <td>1164.201375</td>\n",
       "      <td>2419.675412</td>\n",
       "      <td>4290.947713</td>\n",
       "      <td>929.584588</td>\n",
       "      <td>566.171160</td>\n",
       "      <td>211.877331</td>\n",
       "      <td>...</td>\n",
       "      <td>3400.541704</td>\n",
       "      <td>2650.293830</td>\n",
       "      <td>44.148001</td>\n",
       "      <td>11.116519</td>\n",
       "      <td>7.907002</td>\n",
       "      <td>3.000000</td>\n",
       "      <td>1954.814004</td>\n",
       "      <td>1961.721006</td>\n",
       "      <td>1.0</td>\n",
       "      <td>42.278994</td>\n",
       "    </tr>\n",
       "    <tr>\n",
       "      <th>233</th>\n",
       "      <td>1.000000</td>\n",
       "      <td>58.000000</td>\n",
       "      <td>1050.000000</td>\n",
       "      <td>320.000000</td>\n",
       "      <td>37.500000</td>\n",
       "      <td>84.500000</td>\n",
       "      <td>178.000000</td>\n",
       "      <td>114.000000</td>\n",
       "      <td>43.000000</td>\n",
       "      <td>9.000000</td>\n",
       "      <td>...</td>\n",
       "      <td>137.000000</td>\n",
       "      <td>106.000000</td>\n",
       "      <td>45.000000</td>\n",
       "      <td>12.500000</td>\n",
       "      <td>1.000000</td>\n",
       "      <td>1.000000</td>\n",
       "      <td>1961.000000</td>\n",
       "      <td>1961.000000</td>\n",
       "      <td>1.0</td>\n",
       "      <td>43.000000</td>\n",
       "    </tr>\n",
       "    <tr>\n",
       "      <th>454</th>\n",
       "      <td>1.000000</td>\n",
       "      <td>3.000000</td>\n",
       "      <td>10.000000</td>\n",
       "      <td>4.000000</td>\n",
       "      <td>1.500000</td>\n",
       "      <td>2.000000</td>\n",
       "      <td>2.000000</td>\n",
       "      <td>1.500000</td>\n",
       "      <td>2.000000</td>\n",
       "      <td>1.000000</td>\n",
       "      <td>...</td>\n",
       "      <td>6.000000</td>\n",
       "      <td>4.000000</td>\n",
       "      <td>1.000000</td>\n",
       "      <td>2.000000</td>\n",
       "      <td>1.000000</td>\n",
       "      <td>3.000000</td>\n",
       "      <td>1989.000000</td>\n",
       "      <td>1989.000000</td>\n",
       "      <td>1.0</td>\n",
       "      <td>15.000000</td>\n",
       "    </tr>\n",
       "    <tr>\n",
       "      <th>173</th>\n",
       "      <td>1.000000</td>\n",
       "      <td>598.000000</td>\n",
       "      <td>7036.000000</td>\n",
       "      <td>5859.000000</td>\n",
       "      <td>366.000000</td>\n",
       "      <td>539.000000</td>\n",
       "      <td>2294.000000</td>\n",
       "      <td>940.000000</td>\n",
       "      <td>256.000000</td>\n",
       "      <td>96.500000</td>\n",
       "      <td>...</td>\n",
       "      <td>2211.000000</td>\n",
       "      <td>1499.000000</td>\n",
       "      <td>268.500000</td>\n",
       "      <td>86.000000</td>\n",
       "      <td>10.000000</td>\n",
       "      <td>2.000000</td>\n",
       "      <td>1946.000000</td>\n",
       "      <td>1955.000000</td>\n",
       "      <td>1.0</td>\n",
       "      <td>49.000000</td>\n",
       "    </tr>\n",
       "    <tr>\n",
       "      <th>...</th>\n",
       "      <td>...</td>\n",
       "      <td>...</td>\n",
       "      <td>...</td>\n",
       "      <td>...</td>\n",
       "      <td>...</td>\n",
       "      <td>...</td>\n",
       "      <td>...</td>\n",
       "      <td>...</td>\n",
       "      <td>...</td>\n",
       "      <td>...</td>\n",
       "      <td>...</td>\n",
       "      <td>...</td>\n",
       "      <td>...</td>\n",
       "      <td>...</td>\n",
       "      <td>...</td>\n",
       "      <td>...</td>\n",
       "      <td>...</td>\n",
       "      <td>...</td>\n",
       "      <td>...</td>\n",
       "      <td>...</td>\n",
       "      <td>...</td>\n",
       "    </tr>\n",
       "    <tr>\n",
       "      <th>509</th>\n",
       "      <td>1.000000</td>\n",
       "      <td>644.410302</td>\n",
       "      <td>21283.186738</td>\n",
       "      <td>8504.654016</td>\n",
       "      <td>1366.532600</td>\n",
       "      <td>2873.739779</td>\n",
       "      <td>5687.373285</td>\n",
       "      <td>2463.498026</td>\n",
       "      <td>356.763477</td>\n",
       "      <td>758.308941</td>\n",
       "      <td>...</td>\n",
       "      <td>3112.802855</td>\n",
       "      <td>2377.017667</td>\n",
       "      <td>71.983907</td>\n",
       "      <td>16.808527</td>\n",
       "      <td>10.116653</td>\n",
       "      <td>1.294449</td>\n",
       "      <td>1953.822204</td>\n",
       "      <td>1962.938858</td>\n",
       "      <td>1.0</td>\n",
       "      <td>41.061142</td>\n",
       "    </tr>\n",
       "    <tr>\n",
       "      <th>360</th>\n",
       "      <td>1.000000</td>\n",
       "      <td>569.000000</td>\n",
       "      <td>13353.000000</td>\n",
       "      <td>5545.000000</td>\n",
       "      <td>903.000000</td>\n",
       "      <td>1214.000000</td>\n",
       "      <td>2117.000000</td>\n",
       "      <td>853.000000</td>\n",
       "      <td>455.000000</td>\n",
       "      <td>163.000000</td>\n",
       "      <td>...</td>\n",
       "      <td>1642.000000</td>\n",
       "      <td>1292.000000</td>\n",
       "      <td>36.000000</td>\n",
       "      <td>3.000000</td>\n",
       "      <td>8.000000</td>\n",
       "      <td>3.000000</td>\n",
       "      <td>1980.000000</td>\n",
       "      <td>1987.000000</td>\n",
       "      <td>1.0</td>\n",
       "      <td>17.000000</td>\n",
       "    </tr>\n",
       "    <tr>\n",
       "      <th>485</th>\n",
       "      <td>1.000000</td>\n",
       "      <td>12.000000</td>\n",
       "      <td>97.000000</td>\n",
       "      <td>28.000000</td>\n",
       "      <td>9.000000</td>\n",
       "      <td>8.000000</td>\n",
       "      <td>17.000000</td>\n",
       "      <td>4.000000</td>\n",
       "      <td>3.000000</td>\n",
       "      <td>3.000000</td>\n",
       "      <td>...</td>\n",
       "      <td>12.000000</td>\n",
       "      <td>10.000000</td>\n",
       "      <td>2.500000</td>\n",
       "      <td>1.000000</td>\n",
       "      <td>1.000000</td>\n",
       "      <td>3.000000</td>\n",
       "      <td>1978.000000</td>\n",
       "      <td>1978.000000</td>\n",
       "      <td>1.0</td>\n",
       "      <td>26.000000</td>\n",
       "    </tr>\n",
       "    <tr>\n",
       "      <th>122</th>\n",
       "      <td>1.000000</td>\n",
       "      <td>476.000000</td>\n",
       "      <td>9189.000000</td>\n",
       "      <td>3823.000000</td>\n",
       "      <td>134.000000</td>\n",
       "      <td>543.000000</td>\n",
       "      <td>677.000000</td>\n",
       "      <td>1661.000000</td>\n",
       "      <td>353.000000</td>\n",
       "      <td>40.000000</td>\n",
       "      <td>...</td>\n",
       "      <td>868.000000</td>\n",
       "      <td>712.000000</td>\n",
       "      <td>48.000000</td>\n",
       "      <td>3.000000</td>\n",
       "      <td>8.000000</td>\n",
       "      <td>1.000000</td>\n",
       "      <td>1978.000000</td>\n",
       "      <td>1985.000000</td>\n",
       "      <td>1.0</td>\n",
       "      <td>19.000000</td>\n",
       "    </tr>\n",
       "    <tr>\n",
       "      <th>129</th>\n",
       "      <td>1.000000</td>\n",
       "      <td>249.000000</td>\n",
       "      <td>4147.000000</td>\n",
       "      <td>1448.000000</td>\n",
       "      <td>188.000000</td>\n",
       "      <td>416.000000</td>\n",
       "      <td>604.000000</td>\n",
       "      <td>252.000000</td>\n",
       "      <td>161.000000</td>\n",
       "      <td>62.000000</td>\n",
       "      <td>...</td>\n",
       "      <td>455.000000</td>\n",
       "      <td>300.000000</td>\n",
       "      <td>147.000000</td>\n",
       "      <td>48.000000</td>\n",
       "      <td>4.000000</td>\n",
       "      <td>1.000000</td>\n",
       "      <td>1998.000000</td>\n",
       "      <td>2001.000000</td>\n",
       "      <td>1.0</td>\n",
       "      <td>3.000000</td>\n",
       "    </tr>\n",
       "  </tbody>\n",
       "</table>\n",
       "<p>720 rows × 24 columns</p>\n",
       "</div>"
      ],
      "text/plain": [
       "       league       games       minutes          pts       offReb  \\\n",
       "321  1.000000    3.000000     13.000000     2.000000     1.500000   \n",
       "629  0.899222  465.449430  15845.909175  9324.922026  1164.201375   \n",
       "233  1.000000   58.000000   1050.000000   320.000000    37.500000   \n",
       "454  1.000000    3.000000     10.000000     4.000000     1.500000   \n",
       "173  1.000000  598.000000   7036.000000  5859.000000   366.000000   \n",
       "..        ...         ...           ...          ...          ...   \n",
       "509  1.000000  644.410302  21283.186738  8504.654016  1366.532600   \n",
       "360  1.000000  569.000000  13353.000000  5545.000000   903.000000   \n",
       "485  1.000000   12.000000     97.000000    28.000000     9.000000   \n",
       "122  1.000000  476.000000   9189.000000  3823.000000   134.000000   \n",
       "129  1.000000  249.000000   4147.000000  1448.000000   188.000000   \n",
       "\n",
       "          defReb          reb         asts         stl         blk  ...  \\\n",
       "321     1.000000     1.000000     1.000000    1.500000    1.500000  ...   \n",
       "629  2419.675412  4290.947713   929.584588  566.171160  211.877331  ...   \n",
       "233    84.500000   178.000000   114.000000   43.000000    9.000000  ...   \n",
       "454     2.000000     2.000000     1.500000    2.000000    1.000000  ...   \n",
       "173   539.000000  2294.000000   940.000000  256.000000   96.500000  ...   \n",
       "..           ...          ...          ...         ...         ...  ...   \n",
       "509  2873.739779  5687.373285  2463.498026  356.763477  758.308941  ...   \n",
       "360  1214.000000  2117.000000   853.000000  455.000000  163.000000  ...   \n",
       "485     8.000000    17.000000     4.000000    3.000000    3.000000  ...   \n",
       "122   543.000000   677.000000  1661.000000  353.000000   40.000000  ...   \n",
       "129   416.000000   604.000000   252.000000  161.000000   62.000000  ...   \n",
       "\n",
       "             fta          ftm         tpa        tpm  totalSeasons  Position  \\\n",
       "321     2.000000     1.000000    1.000000   2.000000      1.000000  3.000000   \n",
       "629  3400.541704  2650.293830   44.148001  11.116519      7.907002  3.000000   \n",
       "233   137.000000   106.000000   45.000000  12.500000      1.000000  1.000000   \n",
       "454     6.000000     4.000000    1.000000   2.000000      1.000000  3.000000   \n",
       "173  2211.000000  1499.000000  268.500000  86.000000     10.000000  2.000000   \n",
       "..           ...          ...         ...        ...           ...       ...   \n",
       "509  3112.802855  2377.017667   71.983907  16.808527     10.116653  1.294449   \n",
       "360  1642.000000  1292.000000   36.000000   3.000000      8.000000  3.000000   \n",
       "485    12.000000    10.000000    2.500000   1.000000      1.000000  3.000000   \n",
       "122   868.000000   712.000000   48.000000   3.000000      8.000000  1.000000   \n",
       "129   455.000000   300.000000  147.000000  48.000000      4.000000  1.000000   \n",
       "\n",
       "     firstSeason   lastSeason  careerEnded  yrsRetired2004  \n",
       "321  2000.000000  2000.000000          1.0        4.000000  \n",
       "629  1954.814004  1961.721006          1.0       42.278994  \n",
       "233  1961.000000  1961.000000          1.0       43.000000  \n",
       "454  1989.000000  1989.000000          1.0       15.000000  \n",
       "173  1946.000000  1955.000000          1.0       49.000000  \n",
       "..           ...          ...          ...             ...  \n",
       "509  1953.822204  1962.938858          1.0       41.061142  \n",
       "360  1980.000000  1987.000000          1.0       17.000000  \n",
       "485  1978.000000  1978.000000          1.0       26.000000  \n",
       "122  1978.000000  1985.000000          1.0       19.000000  \n",
       "129  1998.000000  2001.000000          1.0        3.000000  \n",
       "\n",
       "[720 rows x 24 columns]"
      ]
     },
     "execution_count": 53,
     "metadata": {},
     "output_type": "execute_result"
    }
   ],
   "source": [
    "training_data"
   ]
  },
  {
   "cell_type": "markdown",
   "metadata": {},
   "source": [
    "# Standardization"
   ]
  },
  {
   "cell_type": "code",
   "execution_count": 54,
   "metadata": {},
   "outputs": [],
   "source": [
    "from sklearn.preprocessing import StandardScaler"
   ]
  },
  {
   "cell_type": "code",
   "execution_count": 55,
   "metadata": {},
   "outputs": [
    {
     "data": {
      "text/html": [
       "<style>#sk-container-id-3 {color: black;background-color: white;}#sk-container-id-3 pre{padding: 0;}#sk-container-id-3 div.sk-toggleable {background-color: white;}#sk-container-id-3 label.sk-toggleable__label {cursor: pointer;display: block;width: 100%;margin-bottom: 0;padding: 0.3em;box-sizing: border-box;text-align: center;}#sk-container-id-3 label.sk-toggleable__label-arrow:before {content: \"▸\";float: left;margin-right: 0.25em;color: #696969;}#sk-container-id-3 label.sk-toggleable__label-arrow:hover:before {color: black;}#sk-container-id-3 div.sk-estimator:hover label.sk-toggleable__label-arrow:before {color: black;}#sk-container-id-3 div.sk-toggleable__content {max-height: 0;max-width: 0;overflow: hidden;text-align: left;background-color: #f0f8ff;}#sk-container-id-3 div.sk-toggleable__content pre {margin: 0.2em;color: black;border-radius: 0.25em;background-color: #f0f8ff;}#sk-container-id-3 input.sk-toggleable__control:checked~div.sk-toggleable__content {max-height: 200px;max-width: 100%;overflow: auto;}#sk-container-id-3 input.sk-toggleable__control:checked~label.sk-toggleable__label-arrow:before {content: \"▾\";}#sk-container-id-3 div.sk-estimator input.sk-toggleable__control:checked~label.sk-toggleable__label {background-color: #d4ebff;}#sk-container-id-3 div.sk-label input.sk-toggleable__control:checked~label.sk-toggleable__label {background-color: #d4ebff;}#sk-container-id-3 input.sk-hidden--visually {border: 0;clip: rect(1px 1px 1px 1px);clip: rect(1px, 1px, 1px, 1px);height: 1px;margin: -1px;overflow: hidden;padding: 0;position: absolute;width: 1px;}#sk-container-id-3 div.sk-estimator {font-family: monospace;background-color: #f0f8ff;border: 1px dotted black;border-radius: 0.25em;box-sizing: border-box;margin-bottom: 0.5em;}#sk-container-id-3 div.sk-estimator:hover {background-color: #d4ebff;}#sk-container-id-3 div.sk-parallel-item::after {content: \"\";width: 100%;border-bottom: 1px solid gray;flex-grow: 1;}#sk-container-id-3 div.sk-label:hover label.sk-toggleable__label {background-color: #d4ebff;}#sk-container-id-3 div.sk-serial::before {content: \"\";position: absolute;border-left: 1px solid gray;box-sizing: border-box;top: 0;bottom: 0;left: 50%;z-index: 0;}#sk-container-id-3 div.sk-serial {display: flex;flex-direction: column;align-items: center;background-color: white;padding-right: 0.2em;padding-left: 0.2em;position: relative;}#sk-container-id-3 div.sk-item {position: relative;z-index: 1;}#sk-container-id-3 div.sk-parallel {display: flex;align-items: stretch;justify-content: center;background-color: white;position: relative;}#sk-container-id-3 div.sk-item::before, #sk-container-id-3 div.sk-parallel-item::before {content: \"\";position: absolute;border-left: 1px solid gray;box-sizing: border-box;top: 0;bottom: 0;left: 50%;z-index: -1;}#sk-container-id-3 div.sk-parallel-item {display: flex;flex-direction: column;z-index: 1;position: relative;background-color: white;}#sk-container-id-3 div.sk-parallel-item:first-child::after {align-self: flex-end;width: 50%;}#sk-container-id-3 div.sk-parallel-item:last-child::after {align-self: flex-start;width: 50%;}#sk-container-id-3 div.sk-parallel-item:only-child::after {width: 0;}#sk-container-id-3 div.sk-dashed-wrapped {border: 1px dashed gray;margin: 0 0.4em 0.5em 0.4em;box-sizing: border-box;padding-bottom: 0.4em;background-color: white;}#sk-container-id-3 div.sk-label label {font-family: monospace;font-weight: bold;display: inline-block;line-height: 1.2em;}#sk-container-id-3 div.sk-label-container {text-align: center;}#sk-container-id-3 div.sk-container {/* jupyter's `normalize.less` sets `[hidden] { display: none; }` but bootstrap.min.css set `[hidden] { display: none !important; }` so we also need the `!important` here to be able to override the default hidden behavior on the sphinx rendered scikit-learn.org. See: https://github.com/scikit-learn/scikit-learn/issues/21755 */display: inline-block !important;position: relative;}#sk-container-id-3 div.sk-text-repr-fallback {display: none;}</style><div id=\"sk-container-id-3\" class=\"sk-top-container\"><div class=\"sk-text-repr-fallback\"><pre>StandardScaler()</pre><b>In a Jupyter environment, please rerun this cell to show the HTML representation or trust the notebook. <br />On GitHub, the HTML representation is unable to render, please try loading this page with nbviewer.org.</b></div><div class=\"sk-container\" hidden><div class=\"sk-item\"><div class=\"sk-estimator sk-toggleable\"><input class=\"sk-toggleable__control sk-hidden--visually\" id=\"sk-estimator-id-3\" type=\"checkbox\" checked><label for=\"sk-estimator-id-3\" class=\"sk-toggleable__label sk-toggleable__label-arrow\">StandardScaler</label><div class=\"sk-toggleable__content\"><pre>StandardScaler()</pre></div></div></div></div></div>"
      ],
      "text/plain": [
       "StandardScaler()"
      ]
     },
     "execution_count": 55,
     "metadata": {},
     "output_type": "execute_result"
    }
   ],
   "source": [
    "scaler= StandardScaler()\n",
    "scaler.fit(training_data)"
   ]
  },
  {
   "cell_type": "code",
   "execution_count": 56,
   "metadata": {},
   "outputs": [
    {
     "data": {
      "text/html": [
       "<div>\n",
       "<style scoped>\n",
       "    .dataframe tbody tr th:only-of-type {\n",
       "        vertical-align: middle;\n",
       "    }\n",
       "\n",
       "    .dataframe tbody tr th {\n",
       "        vertical-align: top;\n",
       "    }\n",
       "\n",
       "    .dataframe thead th {\n",
       "        text-align: right;\n",
       "    }\n",
       "</style>\n",
       "<table border=\"1\" class=\"dataframe\">\n",
       "  <thead>\n",
       "    <tr style=\"text-align: right;\">\n",
       "      <th></th>\n",
       "      <th>league</th>\n",
       "      <th>games</th>\n",
       "      <th>minutes</th>\n",
       "      <th>pts</th>\n",
       "      <th>offReb</th>\n",
       "      <th>defReb</th>\n",
       "      <th>reb</th>\n",
       "      <th>asts</th>\n",
       "      <th>stl</th>\n",
       "      <th>blk</th>\n",
       "      <th>...</th>\n",
       "      <th>fta</th>\n",
       "      <th>ftm</th>\n",
       "      <th>tpa</th>\n",
       "      <th>tpm</th>\n",
       "      <th>totalSeasons</th>\n",
       "      <th>Position</th>\n",
       "      <th>firstSeason</th>\n",
       "      <th>lastSeason</th>\n",
       "      <th>careerEnded</th>\n",
       "      <th>yrsRetired2004</th>\n",
       "    </tr>\n",
       "  </thead>\n",
       "  <tbody>\n",
       "    <tr>\n",
       "      <th>0</th>\n",
       "      <td>0.341544</td>\n",
       "      <td>-1.339543</td>\n",
       "      <td>-1.108225</td>\n",
       "      <td>-1.044830</td>\n",
       "      <td>-0.741444</td>\n",
       "      <td>-0.853487</td>\n",
       "      <td>-0.838101</td>\n",
       "      <td>-0.921464</td>\n",
       "      <td>-0.992975</td>\n",
       "      <td>-0.693490</td>\n",
       "      <td>...</td>\n",
       "      <td>-1.037176</td>\n",
       "      <td>-1.051527</td>\n",
       "      <td>-0.586041</td>\n",
       "      <td>-0.604032</td>\n",
       "      <td>-1.440941</td>\n",
       "      <td>1.230623</td>\n",
       "      <td>1.965713</td>\n",
       "      <td>1.504998</td>\n",
       "      <td>0.0</td>\n",
       "      <td>-1.721796</td>\n",
       "    </tr>\n",
       "    <tr>\n",
       "      <th>1</th>\n",
       "      <td>-0.016856</td>\n",
       "      <td>-0.096757</td>\n",
       "      <td>0.060079</td>\n",
       "      <td>0.173172</td>\n",
       "      <td>0.595645</td>\n",
       "      <td>0.659904</td>\n",
       "      <td>0.225379</td>\n",
       "      <td>-0.418369</td>\n",
       "      <td>0.491494</td>\n",
       "      <td>-0.062212</td>\n",
       "      <td>...</td>\n",
       "      <td>0.416358</td>\n",
       "      <td>0.461769</td>\n",
       "      <td>-0.506564</td>\n",
       "      <td>-0.556917</td>\n",
       "      <td>-0.078341</td>\n",
       "      <td>1.230623</td>\n",
       "      <td>-0.918540</td>\n",
       "      <td>-0.947357</td>\n",
       "      <td>0.0</td>\n",
       "      <td>0.918440</td>\n",
       "    </tr>\n",
       "    <tr>\n",
       "      <th>2</th>\n",
       "      <td>0.341544</td>\n",
       "      <td>-1.191736</td>\n",
       "      <td>-1.031705</td>\n",
       "      <td>-1.003284</td>\n",
       "      <td>-0.700044</td>\n",
       "      <td>-0.801240</td>\n",
       "      <td>-0.794222</td>\n",
       "      <td>-0.860242</td>\n",
       "      <td>-0.883876</td>\n",
       "      <td>-0.670984</td>\n",
       "      <td>...</td>\n",
       "      <td>-0.979438</td>\n",
       "      <td>-0.991550</td>\n",
       "      <td>-0.504995</td>\n",
       "      <td>-0.549767</td>\n",
       "      <td>-1.440941</td>\n",
       "      <td>-1.158236</td>\n",
       "      <td>-0.523684</td>\n",
       "      <td>-0.993549</td>\n",
       "      <td>0.0</td>\n",
       "      <td>0.968170</td>\n",
       "    </tr>\n",
       "    <tr>\n",
       "      <th>3</th>\n",
       "      <td>0.341544</td>\n",
       "      <td>-1.339543</td>\n",
       "      <td>-1.108446</td>\n",
       "      <td>-1.044569</td>\n",
       "      <td>-0.741444</td>\n",
       "      <td>-0.852861</td>\n",
       "      <td>-0.837853</td>\n",
       "      <td>-0.921193</td>\n",
       "      <td>-0.991661</td>\n",
       "      <td>-0.694990</td>\n",
       "      <td>...</td>\n",
       "      <td>-1.035466</td>\n",
       "      <td>-1.049814</td>\n",
       "      <td>-0.586041</td>\n",
       "      <td>-0.604032</td>\n",
       "      <td>-1.440941</td>\n",
       "      <td>1.230623</td>\n",
       "      <td>1.263576</td>\n",
       "      <td>0.800280</td>\n",
       "      <td>0.0</td>\n",
       "      <td>-0.963087</td>\n",
       "    </tr>\n",
       "    <tr>\n",
       "      <th>4</th>\n",
       "      <td>0.341544</td>\n",
       "      <td>0.259460</td>\n",
       "      <td>-0.590000</td>\n",
       "      <td>-0.279636</td>\n",
       "      <td>-0.322274</td>\n",
       "      <td>-0.516854</td>\n",
       "      <td>-0.269665</td>\n",
       "      <td>-0.412726</td>\n",
       "      <td>-0.323918</td>\n",
       "      <td>-0.408424</td>\n",
       "      <td>...</td>\n",
       "      <td>-0.092401</td>\n",
       "      <td>-0.195859</td>\n",
       "      <td>-0.093319</td>\n",
       "      <td>-0.169914</td>\n",
       "      <td>0.334561</td>\n",
       "      <td>0.036193</td>\n",
       "      <td>-1.481144</td>\n",
       "      <td>-1.377940</td>\n",
       "      <td>0.0</td>\n",
       "      <td>1.382011</td>\n",
       "    </tr>\n",
       "    <tr>\n",
       "      <th>...</th>\n",
       "      <td>...</td>\n",
       "      <td>...</td>\n",
       "      <td>...</td>\n",
       "      <td>...</td>\n",
       "      <td>...</td>\n",
       "      <td>...</td>\n",
       "      <td>...</td>\n",
       "      <td>...</td>\n",
       "      <td>...</td>\n",
       "      <td>...</td>\n",
       "      <td>...</td>\n",
       "      <td>...</td>\n",
       "      <td>...</td>\n",
       "      <td>...</td>\n",
       "      <td>...</td>\n",
       "      <td>...</td>\n",
       "      <td>...</td>\n",
       "      <td>...</td>\n",
       "      <td>...</td>\n",
       "      <td>...</td>\n",
       "      <td>...</td>\n",
       "    </tr>\n",
       "    <tr>\n",
       "      <th>715</th>\n",
       "      <td>0.341544</td>\n",
       "      <td>0.384183</td>\n",
       "      <td>0.461294</td>\n",
       "      <td>0.066008</td>\n",
       "      <td>0.828323</td>\n",
       "      <td>0.944017</td>\n",
       "      <td>0.571553</td>\n",
       "      <td>0.412685</td>\n",
       "      <td>-0.059020</td>\n",
       "      <td>1.577460</td>\n",
       "      <td>...</td>\n",
       "      <td>0.293294</td>\n",
       "      <td>0.305672</td>\n",
       "      <td>-0.455292</td>\n",
       "      <td>-0.527500</td>\n",
       "      <td>0.357575</td>\n",
       "      <td>-0.806538</td>\n",
       "      <td>-0.981847</td>\n",
       "      <td>-0.869335</td>\n",
       "      <td>0.0</td>\n",
       "      <td>0.834440</td>\n",
       "    </tr>\n",
       "    <tr>\n",
       "      <th>716</th>\n",
       "      <td>0.341544</td>\n",
       "      <td>0.181525</td>\n",
       "      <td>-0.123872</td>\n",
       "      <td>-0.320659</td>\n",
       "      <td>0.295267</td>\n",
       "      <td>-0.094500</td>\n",
       "      <td>-0.313543</td>\n",
       "      <td>-0.459861</td>\n",
       "      <td>0.199235</td>\n",
       "      <td>-0.208878</td>\n",
       "      <td>...</td>\n",
       "      <td>-0.335759</td>\n",
       "      <td>-0.314098</td>\n",
       "      <td>-0.521572</td>\n",
       "      <td>-0.598864</td>\n",
       "      <td>-0.059995</td>\n",
       "      <td>1.230623</td>\n",
       "      <td>0.689099</td>\n",
       "      <td>0.672149</td>\n",
       "      <td>0.0</td>\n",
       "      <td>-0.825140</td>\n",
       "    </tr>\n",
       "    <tr>\n",
       "      <th>717</th>\n",
       "      <td>0.341544</td>\n",
       "      <td>-1.315357</td>\n",
       "      <td>-1.102026</td>\n",
       "      <td>-1.041433</td>\n",
       "      <td>-0.732819</td>\n",
       "      <td>-0.849107</td>\n",
       "      <td>-0.834134</td>\n",
       "      <td>-0.919838</td>\n",
       "      <td>-0.989032</td>\n",
       "      <td>-0.688989</td>\n",
       "      <td>...</td>\n",
       "      <td>-1.032899</td>\n",
       "      <td>-1.046386</td>\n",
       "      <td>-0.583278</td>\n",
       "      <td>-0.609200</td>\n",
       "      <td>-1.440941</td>\n",
       "      <td>1.230623</td>\n",
       "      <td>0.561438</td>\n",
       "      <td>0.095561</td>\n",
       "      <td>0.0</td>\n",
       "      <td>-0.204379</td>\n",
       "    </tr>\n",
       "    <tr>\n",
       "      <th>718</th>\n",
       "      <td>0.341544</td>\n",
       "      <td>-0.068403</td>\n",
       "      <td>-0.431131</td>\n",
       "      <td>-0.545632</td>\n",
       "      <td>-0.589071</td>\n",
       "      <td>-0.514352</td>\n",
       "      <td>-0.670520</td>\n",
       "      <td>-0.022098</td>\n",
       "      <td>-0.068913</td>\n",
       "      <td>-0.577963</td>\n",
       "      <td>...</td>\n",
       "      <td>-0.666794</td>\n",
       "      <td>-0.645399</td>\n",
       "      <td>-0.499469</td>\n",
       "      <td>-0.598864</td>\n",
       "      <td>-0.059995</td>\n",
       "      <td>-1.158236</td>\n",
       "      <td>0.561438</td>\n",
       "      <td>0.544019</td>\n",
       "      <td>0.0</td>\n",
       "      <td>-0.687193</td>\n",
       "    </tr>\n",
       "    <tr>\n",
       "      <th>719</th>\n",
       "      <td>0.341544</td>\n",
       "      <td>-0.678443</td>\n",
       "      <td>-0.803178</td>\n",
       "      <td>-0.855916</td>\n",
       "      <td>-0.526972</td>\n",
       "      <td>-0.593817</td>\n",
       "      <td>-0.688617</td>\n",
       "      <td>-0.785475</td>\n",
       "      <td>-0.573664</td>\n",
       "      <td>-0.511948</td>\n",
       "      <td>...</td>\n",
       "      <td>-0.843431</td>\n",
       "      <td>-0.880736</td>\n",
       "      <td>-0.317116</td>\n",
       "      <td>-0.366301</td>\n",
       "      <td>-0.849107</td>\n",
       "      <td>-1.158236</td>\n",
       "      <td>1.838052</td>\n",
       "      <td>1.569063</td>\n",
       "      <td>0.0</td>\n",
       "      <td>-1.790769</td>\n",
       "    </tr>\n",
       "  </tbody>\n",
       "</table>\n",
       "<p>720 rows × 24 columns</p>\n",
       "</div>"
      ],
      "text/plain": [
       "       league     games   minutes       pts    offReb    defReb       reb  \\\n",
       "0    0.341544 -1.339543 -1.108225 -1.044830 -0.741444 -0.853487 -0.838101   \n",
       "1   -0.016856 -0.096757  0.060079  0.173172  0.595645  0.659904  0.225379   \n",
       "2    0.341544 -1.191736 -1.031705 -1.003284 -0.700044 -0.801240 -0.794222   \n",
       "3    0.341544 -1.339543 -1.108446 -1.044569 -0.741444 -0.852861 -0.837853   \n",
       "4    0.341544  0.259460 -0.590000 -0.279636 -0.322274 -0.516854 -0.269665   \n",
       "..        ...       ...       ...       ...       ...       ...       ...   \n",
       "715  0.341544  0.384183  0.461294  0.066008  0.828323  0.944017  0.571553   \n",
       "716  0.341544  0.181525 -0.123872 -0.320659  0.295267 -0.094500 -0.313543   \n",
       "717  0.341544 -1.315357 -1.102026 -1.041433 -0.732819 -0.849107 -0.834134   \n",
       "718  0.341544 -0.068403 -0.431131 -0.545632 -0.589071 -0.514352 -0.670520   \n",
       "719  0.341544 -0.678443 -0.803178 -0.855916 -0.526972 -0.593817 -0.688617   \n",
       "\n",
       "         asts       stl       blk  ...       fta       ftm       tpa  \\\n",
       "0   -0.921464 -0.992975 -0.693490  ... -1.037176 -1.051527 -0.586041   \n",
       "1   -0.418369  0.491494 -0.062212  ...  0.416358  0.461769 -0.506564   \n",
       "2   -0.860242 -0.883876 -0.670984  ... -0.979438 -0.991550 -0.504995   \n",
       "3   -0.921193 -0.991661 -0.694990  ... -1.035466 -1.049814 -0.586041   \n",
       "4   -0.412726 -0.323918 -0.408424  ... -0.092401 -0.195859 -0.093319   \n",
       "..        ...       ...       ...  ...       ...       ...       ...   \n",
       "715  0.412685 -0.059020  1.577460  ...  0.293294  0.305672 -0.455292   \n",
       "716 -0.459861  0.199235 -0.208878  ... -0.335759 -0.314098 -0.521572   \n",
       "717 -0.919838 -0.989032 -0.688989  ... -1.032899 -1.046386 -0.583278   \n",
       "718 -0.022098 -0.068913 -0.577963  ... -0.666794 -0.645399 -0.499469   \n",
       "719 -0.785475 -0.573664 -0.511948  ... -0.843431 -0.880736 -0.317116   \n",
       "\n",
       "          tpm  totalSeasons  Position  firstSeason  lastSeason  careerEnded  \\\n",
       "0   -0.604032     -1.440941  1.230623     1.965713    1.504998          0.0   \n",
       "1   -0.556917     -0.078341  1.230623    -0.918540   -0.947357          0.0   \n",
       "2   -0.549767     -1.440941 -1.158236    -0.523684   -0.993549          0.0   \n",
       "3   -0.604032     -1.440941  1.230623     1.263576    0.800280          0.0   \n",
       "4   -0.169914      0.334561  0.036193    -1.481144   -1.377940          0.0   \n",
       "..        ...           ...       ...          ...         ...          ...   \n",
       "715 -0.527500      0.357575 -0.806538    -0.981847   -0.869335          0.0   \n",
       "716 -0.598864     -0.059995  1.230623     0.689099    0.672149          0.0   \n",
       "717 -0.609200     -1.440941  1.230623     0.561438    0.095561          0.0   \n",
       "718 -0.598864     -0.059995 -1.158236     0.561438    0.544019          0.0   \n",
       "719 -0.366301     -0.849107 -1.158236     1.838052    1.569063          0.0   \n",
       "\n",
       "     yrsRetired2004  \n",
       "0         -1.721796  \n",
       "1          0.918440  \n",
       "2          0.968170  \n",
       "3         -0.963087  \n",
       "4          1.382011  \n",
       "..              ...  \n",
       "715        0.834440  \n",
       "716       -0.825140  \n",
       "717       -0.204379  \n",
       "718       -0.687193  \n",
       "719       -1.790769  \n",
       "\n",
       "[720 rows x 24 columns]"
      ]
     },
     "execution_count": 56,
     "metadata": {},
     "output_type": "execute_result"
    }
   ],
   "source": [
    "training_scaled_data= pd.DataFrame(scaler.transform(training_data))\n",
    "training_scaled_data.columns = list(df.columns)\n",
    "\n",
    "test_scaled_data= pd.DataFrame(scaler.transform(test_data))\n",
    "test_scaled_data.columns = list(df.columns)\n",
    "\n",
    "df_st = np.concatenate((training_scaled_data.copy(), test_scaled_data.copy()), axis = 0) #to store all the standadized data for later\n",
    "\n",
    "training_scaled_data"
   ]
  },
  {
   "cell_type": "markdown",
   "metadata": {},
   "source": [
    "I decided to convert my data after scaling into Pandas DataFrame to visualize it better."
   ]
  },
  {
   "cell_type": "code",
   "execution_count": 57,
   "metadata": {},
   "outputs": [
    {
     "data": {
      "text/html": [
       "<div>\n",
       "<style scoped>\n",
       "    .dataframe tbody tr th:only-of-type {\n",
       "        vertical-align: middle;\n",
       "    }\n",
       "\n",
       "    .dataframe tbody tr th {\n",
       "        vertical-align: top;\n",
       "    }\n",
       "\n",
       "    .dataframe thead th {\n",
       "        text-align: right;\n",
       "    }\n",
       "</style>\n",
       "<table border=\"1\" class=\"dataframe\">\n",
       "  <thead>\n",
       "    <tr style=\"text-align: right;\">\n",
       "      <th></th>\n",
       "      <th>league</th>\n",
       "      <th>games</th>\n",
       "      <th>minutes</th>\n",
       "      <th>pts</th>\n",
       "      <th>offReb</th>\n",
       "      <th>defReb</th>\n",
       "      <th>reb</th>\n",
       "      <th>asts</th>\n",
       "      <th>stl</th>\n",
       "      <th>blk</th>\n",
       "      <th>...</th>\n",
       "      <th>fta</th>\n",
       "      <th>ftm</th>\n",
       "      <th>tpa</th>\n",
       "      <th>tpm</th>\n",
       "      <th>totalSeasons</th>\n",
       "      <th>Position</th>\n",
       "      <th>firstSeason</th>\n",
       "      <th>lastSeason</th>\n",
       "      <th>careerEnded</th>\n",
       "      <th>yrsRetired2004</th>\n",
       "    </tr>\n",
       "  </thead>\n",
       "  <tbody>\n",
       "    <tr>\n",
       "      <th>count</th>\n",
       "      <td>7.200000e+02</td>\n",
       "      <td>7.200000e+02</td>\n",
       "      <td>7.200000e+02</td>\n",
       "      <td>7.200000e+02</td>\n",
       "      <td>7.200000e+02</td>\n",
       "      <td>7.200000e+02</td>\n",
       "      <td>7.200000e+02</td>\n",
       "      <td>7.200000e+02</td>\n",
       "      <td>7.200000e+02</td>\n",
       "      <td>7.200000e+02</td>\n",
       "      <td>...</td>\n",
       "      <td>7.200000e+02</td>\n",
       "      <td>7.200000e+02</td>\n",
       "      <td>7.200000e+02</td>\n",
       "      <td>7.200000e+02</td>\n",
       "      <td>7.200000e+02</td>\n",
       "      <td>7.200000e+02</td>\n",
       "      <td>7.200000e+02</td>\n",
       "      <td>7.200000e+02</td>\n",
       "      <td>720.0</td>\n",
       "      <td>7.200000e+02</td>\n",
       "    </tr>\n",
       "    <tr>\n",
       "      <th>mean</th>\n",
       "      <td>3.384638e-16</td>\n",
       "      <td>-6.630499e-17</td>\n",
       "      <td>1.819532e-17</td>\n",
       "      <td>1.942890e-16</td>\n",
       "      <td>3.330669e-17</td>\n",
       "      <td>-3.037694e-17</td>\n",
       "      <td>-7.771561e-17</td>\n",
       "      <td>-7.324388e-17</td>\n",
       "      <td>-1.771731e-16</td>\n",
       "      <td>2.390063e-17</td>\n",
       "      <td>...</td>\n",
       "      <td>-2.158767e-18</td>\n",
       "      <td>-7.894919e-17</td>\n",
       "      <td>-4.417762e-17</td>\n",
       "      <td>-7.501715e-17</td>\n",
       "      <td>1.017704e-17</td>\n",
       "      <td>-1.258253e-16</td>\n",
       "      <td>8.403772e-16</td>\n",
       "      <td>8.258517e-15</td>\n",
       "      <td>0.0</td>\n",
       "      <td>1.609823e-16</td>\n",
       "    </tr>\n",
       "    <tr>\n",
       "      <th>std</th>\n",
       "      <td>1.000695e+00</td>\n",
       "      <td>1.000695e+00</td>\n",
       "      <td>1.000695e+00</td>\n",
       "      <td>1.000695e+00</td>\n",
       "      <td>1.000695e+00</td>\n",
       "      <td>1.000695e+00</td>\n",
       "      <td>1.000695e+00</td>\n",
       "      <td>1.000695e+00</td>\n",
       "      <td>1.000695e+00</td>\n",
       "      <td>1.000695e+00</td>\n",
       "      <td>...</td>\n",
       "      <td>1.000695e+00</td>\n",
       "      <td>1.000695e+00</td>\n",
       "      <td>1.000695e+00</td>\n",
       "      <td>1.000695e+00</td>\n",
       "      <td>1.000695e+00</td>\n",
       "      <td>1.000695e+00</td>\n",
       "      <td>1.000695e+00</td>\n",
       "      <td>1.000695e+00</td>\n",
       "      <td>0.0</td>\n",
       "      <td>1.000695e+00</td>\n",
       "    </tr>\n",
       "    <tr>\n",
       "      <th>min</th>\n",
       "      <td>-3.214786e+00</td>\n",
       "      <td>-1.344918e+00</td>\n",
       "      <td>-1.109110e+00</td>\n",
       "      <td>-1.044960e+00</td>\n",
       "      <td>-7.420187e-01</td>\n",
       "      <td>-8.534866e-01</td>\n",
       "      <td>-8.381007e-01</td>\n",
       "      <td>-9.214636e-01</td>\n",
       "      <td>-9.942897e-01</td>\n",
       "      <td>-6.949900e-01</td>\n",
       "      <td>...</td>\n",
       "      <td>-1.037604e+00</td>\n",
       "      <td>-1.051527e+00</td>\n",
       "      <td>-5.860406e-01</td>\n",
       "      <td>-6.091997e-01</td>\n",
       "      <td>-1.440941e+00</td>\n",
       "      <td>-1.158236e+00</td>\n",
       "      <td>-1.481144e+00</td>\n",
       "      <td>-1.954528e+00</td>\n",
       "      <td>0.0</td>\n",
       "      <td>-1.928716e+00</td>\n",
       "    </tr>\n",
       "    <tr>\n",
       "      <th>25%</th>\n",
       "      <td>3.415440e-01</td>\n",
       "      <td>-9.995871e-01</td>\n",
       "      <td>-9.794434e-01</td>\n",
       "      <td>-9.468127e-01</td>\n",
       "      <td>-6.618073e-01</td>\n",
       "      <td>-7.543812e-01</td>\n",
       "      <td>-7.661152e-01</td>\n",
       "      <td>-8.349132e-01</td>\n",
       "      <td>-8.451401e-01</td>\n",
       "      <td>-6.484793e-01</td>\n",
       "      <td>...</td>\n",
       "      <td>-9.461845e-01</td>\n",
       "      <td>-9.679881e-01</td>\n",
       "      <td>-5.659784e-01</td>\n",
       "      <td>-5.881215e-01</td>\n",
       "      <td>-8.491067e-01</td>\n",
       "      <td>-1.158236e+00</td>\n",
       "      <td>-8.527914e-01</td>\n",
       "      <td>-8.180501e-01</td>\n",
       "      <td>0.0</td>\n",
       "      <td>-7.956969e-01</td>\n",
       "    </tr>\n",
       "    <tr>\n",
       "      <th>50%</th>\n",
       "      <td>3.415440e-01</td>\n",
       "      <td>1.479227e-02</td>\n",
       "      <td>-1.115417e-01</td>\n",
       "      <td>-1.499948e-01</td>\n",
       "      <td>-3.349242e-01</td>\n",
       "      <td>-2.947770e-01</td>\n",
       "      <td>-2.686735e-01</td>\n",
       "      <td>-3.210993e-01</td>\n",
       "      <td>-2.433164e-01</td>\n",
       "      <td>-4.061693e-01</td>\n",
       "      <td>...</td>\n",
       "      <td>-9.091200e-02</td>\n",
       "      <td>-7.407485e-02</td>\n",
       "      <td>-4.618494e-01</td>\n",
       "      <td>-4.528658e-01</td>\n",
       "      <td>1.372835e-01</td>\n",
       "      <td>3.619338e-02</td>\n",
       "      <td>-8.188313e-02</td>\n",
       "      <td>-7.204580e-02</td>\n",
       "      <td>0.0</td>\n",
       "      <td>1.479584e-02</td>\n",
       "    </tr>\n",
       "    <tr>\n",
       "      <th>75%</th>\n",
       "      <td>3.415440e-01</td>\n",
       "      <td>8.699790e-01</td>\n",
       "      <td>9.885418e-01</td>\n",
       "      <td>7.908766e-01</td>\n",
       "      <td>3.094162e-01</td>\n",
       "      <td>3.978875e-01</td>\n",
       "      <td>3.594434e-01</td>\n",
       "      <td>5.028556e-01</td>\n",
       "      <td>4.718269e-01</td>\n",
       "      <td>2.914872e-01</td>\n",
       "      <td>...</td>\n",
       "      <td>6.109145e-01</td>\n",
       "      <td>6.386145e-01</td>\n",
       "      <td>6.194701e-02</td>\n",
       "      <td>-1.474883e-02</td>\n",
       "      <td>8.214705e-01</td>\n",
       "      <td>1.230623e+00</td>\n",
       "      <td>6.890995e-01</td>\n",
       "      <td>8.002797e-01</td>\n",
       "      <td>0.0</td>\n",
       "      <td>8.302232e-01</td>\n",
       "    </tr>\n",
       "    <tr>\n",
       "      <th>max</th>\n",
       "      <td>3.415440e-01</td>\n",
       "      <td>2.981795e+00</td>\n",
       "      <td>2.422312e+00</td>\n",
       "      <td>3.059674e+00</td>\n",
       "      <td>6.997377e+00</td>\n",
       "      <td>5.476200e+00</td>\n",
       "      <td>5.092420e+00</td>\n",
       "      <td>3.865107e+00</td>\n",
       "      <td>4.805085e+00</td>\n",
       "      <td>6.386641e+00</td>\n",
       "      <td>...</td>\n",
       "      <td>4.035269e+00</td>\n",
       "      <td>3.820872e+00</td>\n",
       "      <td>5.737371e+00</td>\n",
       "      <td>6.109280e+00</td>\n",
       "      <td>2.504620e+00</td>\n",
       "      <td>1.230623e+00</td>\n",
       "      <td>2.221036e+00</td>\n",
       "      <td>1.761259e+00</td>\n",
       "      <td>0.0</td>\n",
       "      <td>2.002772e+00</td>\n",
       "    </tr>\n",
       "  </tbody>\n",
       "</table>\n",
       "<p>8 rows × 24 columns</p>\n",
       "</div>"
      ],
      "text/plain": [
       "             league         games       minutes           pts        offReb  \\\n",
       "count  7.200000e+02  7.200000e+02  7.200000e+02  7.200000e+02  7.200000e+02   \n",
       "mean   3.384638e-16 -6.630499e-17  1.819532e-17  1.942890e-16  3.330669e-17   \n",
       "std    1.000695e+00  1.000695e+00  1.000695e+00  1.000695e+00  1.000695e+00   \n",
       "min   -3.214786e+00 -1.344918e+00 -1.109110e+00 -1.044960e+00 -7.420187e-01   \n",
       "25%    3.415440e-01 -9.995871e-01 -9.794434e-01 -9.468127e-01 -6.618073e-01   \n",
       "50%    3.415440e-01  1.479227e-02 -1.115417e-01 -1.499948e-01 -3.349242e-01   \n",
       "75%    3.415440e-01  8.699790e-01  9.885418e-01  7.908766e-01  3.094162e-01   \n",
       "max    3.415440e-01  2.981795e+00  2.422312e+00  3.059674e+00  6.997377e+00   \n",
       "\n",
       "             defReb           reb          asts           stl           blk  \\\n",
       "count  7.200000e+02  7.200000e+02  7.200000e+02  7.200000e+02  7.200000e+02   \n",
       "mean  -3.037694e-17 -7.771561e-17 -7.324388e-17 -1.771731e-16  2.390063e-17   \n",
       "std    1.000695e+00  1.000695e+00  1.000695e+00  1.000695e+00  1.000695e+00   \n",
       "min   -8.534866e-01 -8.381007e-01 -9.214636e-01 -9.942897e-01 -6.949900e-01   \n",
       "25%   -7.543812e-01 -7.661152e-01 -8.349132e-01 -8.451401e-01 -6.484793e-01   \n",
       "50%   -2.947770e-01 -2.686735e-01 -3.210993e-01 -2.433164e-01 -4.061693e-01   \n",
       "75%    3.978875e-01  3.594434e-01  5.028556e-01  4.718269e-01  2.914872e-01   \n",
       "max    5.476200e+00  5.092420e+00  3.865107e+00  4.805085e+00  6.386641e+00   \n",
       "\n",
       "       ...           fta           ftm           tpa           tpm  \\\n",
       "count  ...  7.200000e+02  7.200000e+02  7.200000e+02  7.200000e+02   \n",
       "mean   ... -2.158767e-18 -7.894919e-17 -4.417762e-17 -7.501715e-17   \n",
       "std    ...  1.000695e+00  1.000695e+00  1.000695e+00  1.000695e+00   \n",
       "min    ... -1.037604e+00 -1.051527e+00 -5.860406e-01 -6.091997e-01   \n",
       "25%    ... -9.461845e-01 -9.679881e-01 -5.659784e-01 -5.881215e-01   \n",
       "50%    ... -9.091200e-02 -7.407485e-02 -4.618494e-01 -4.528658e-01   \n",
       "75%    ...  6.109145e-01  6.386145e-01  6.194701e-02 -1.474883e-02   \n",
       "max    ...  4.035269e+00  3.820872e+00  5.737371e+00  6.109280e+00   \n",
       "\n",
       "       totalSeasons      Position   firstSeason    lastSeason  careerEnded  \\\n",
       "count  7.200000e+02  7.200000e+02  7.200000e+02  7.200000e+02        720.0   \n",
       "mean   1.017704e-17 -1.258253e-16  8.403772e-16  8.258517e-15          0.0   \n",
       "std    1.000695e+00  1.000695e+00  1.000695e+00  1.000695e+00          0.0   \n",
       "min   -1.440941e+00 -1.158236e+00 -1.481144e+00 -1.954528e+00          0.0   \n",
       "25%   -8.491067e-01 -1.158236e+00 -8.527914e-01 -8.180501e-01          0.0   \n",
       "50%    1.372835e-01  3.619338e-02 -8.188313e-02 -7.204580e-02          0.0   \n",
       "75%    8.214705e-01  1.230623e+00  6.890995e-01  8.002797e-01          0.0   \n",
       "max    2.504620e+00  1.230623e+00  2.221036e+00  1.761259e+00          0.0   \n",
       "\n",
       "       yrsRetired2004  \n",
       "count    7.200000e+02  \n",
       "mean     1.609823e-16  \n",
       "std      1.000695e+00  \n",
       "min     -1.928716e+00  \n",
       "25%     -7.956969e-01  \n",
       "50%      1.479584e-02  \n",
       "75%      8.302232e-01  \n",
       "max      2.002772e+00  \n",
       "\n",
       "[8 rows x 24 columns]"
      ]
     },
     "execution_count": 57,
     "metadata": {},
     "output_type": "execute_result"
    }
   ],
   "source": [
    "training_scaled_data.describe()"
   ]
  },
  {
   "cell_type": "markdown",
   "metadata": {},
   "source": [
    "Performing PCA on data that is not standardized could lead to scaling problems, therefore I standardize the data using StandardScaler before applying PCA."
   ]
  },
  {
   "cell_type": "markdown",
   "metadata": {},
   "source": [
    "# PCA (Explained Variance Method)"
   ]
  },
  {
   "cell_type": "code",
   "execution_count": 58,
   "metadata": {},
   "outputs": [],
   "source": [
    "from sklearn.decomposition import PCA"
   ]
  },
  {
   "cell_type": "code",
   "execution_count": 59,
   "metadata": {},
   "outputs": [],
   "source": [
    "pca = PCA(0.95)"
   ]
  },
  {
   "cell_type": "markdown",
   "metadata": {},
   "source": [
    "Instead of exhaustively trying every possible number of principal components and evaluating the performance, to choose the best number of principal components for PCA, I decided to input in pca a number between 0 and 1, by doing this \n",
    "PCA selects the minimum number of components such that the amount of explained variance is greater than the percentage specified by n_components."
   ]
  },
  {
   "cell_type": "code",
   "execution_count": 60,
   "metadata": {
    "scrolled": true
   },
   "outputs": [
    {
     "data": {
      "text/html": [
       "<style>#sk-container-id-4 {color: black;background-color: white;}#sk-container-id-4 pre{padding: 0;}#sk-container-id-4 div.sk-toggleable {background-color: white;}#sk-container-id-4 label.sk-toggleable__label {cursor: pointer;display: block;width: 100%;margin-bottom: 0;padding: 0.3em;box-sizing: border-box;text-align: center;}#sk-container-id-4 label.sk-toggleable__label-arrow:before {content: \"▸\";float: left;margin-right: 0.25em;color: #696969;}#sk-container-id-4 label.sk-toggleable__label-arrow:hover:before {color: black;}#sk-container-id-4 div.sk-estimator:hover label.sk-toggleable__label-arrow:before {color: black;}#sk-container-id-4 div.sk-toggleable__content {max-height: 0;max-width: 0;overflow: hidden;text-align: left;background-color: #f0f8ff;}#sk-container-id-4 div.sk-toggleable__content pre {margin: 0.2em;color: black;border-radius: 0.25em;background-color: #f0f8ff;}#sk-container-id-4 input.sk-toggleable__control:checked~div.sk-toggleable__content {max-height: 200px;max-width: 100%;overflow: auto;}#sk-container-id-4 input.sk-toggleable__control:checked~label.sk-toggleable__label-arrow:before {content: \"▾\";}#sk-container-id-4 div.sk-estimator input.sk-toggleable__control:checked~label.sk-toggleable__label {background-color: #d4ebff;}#sk-container-id-4 div.sk-label input.sk-toggleable__control:checked~label.sk-toggleable__label {background-color: #d4ebff;}#sk-container-id-4 input.sk-hidden--visually {border: 0;clip: rect(1px 1px 1px 1px);clip: rect(1px, 1px, 1px, 1px);height: 1px;margin: -1px;overflow: hidden;padding: 0;position: absolute;width: 1px;}#sk-container-id-4 div.sk-estimator {font-family: monospace;background-color: #f0f8ff;border: 1px dotted black;border-radius: 0.25em;box-sizing: border-box;margin-bottom: 0.5em;}#sk-container-id-4 div.sk-estimator:hover {background-color: #d4ebff;}#sk-container-id-4 div.sk-parallel-item::after {content: \"\";width: 100%;border-bottom: 1px solid gray;flex-grow: 1;}#sk-container-id-4 div.sk-label:hover label.sk-toggleable__label {background-color: #d4ebff;}#sk-container-id-4 div.sk-serial::before {content: \"\";position: absolute;border-left: 1px solid gray;box-sizing: border-box;top: 0;bottom: 0;left: 50%;z-index: 0;}#sk-container-id-4 div.sk-serial {display: flex;flex-direction: column;align-items: center;background-color: white;padding-right: 0.2em;padding-left: 0.2em;position: relative;}#sk-container-id-4 div.sk-item {position: relative;z-index: 1;}#sk-container-id-4 div.sk-parallel {display: flex;align-items: stretch;justify-content: center;background-color: white;position: relative;}#sk-container-id-4 div.sk-item::before, #sk-container-id-4 div.sk-parallel-item::before {content: \"\";position: absolute;border-left: 1px solid gray;box-sizing: border-box;top: 0;bottom: 0;left: 50%;z-index: -1;}#sk-container-id-4 div.sk-parallel-item {display: flex;flex-direction: column;z-index: 1;position: relative;background-color: white;}#sk-container-id-4 div.sk-parallel-item:first-child::after {align-self: flex-end;width: 50%;}#sk-container-id-4 div.sk-parallel-item:last-child::after {align-self: flex-start;width: 50%;}#sk-container-id-4 div.sk-parallel-item:only-child::after {width: 0;}#sk-container-id-4 div.sk-dashed-wrapped {border: 1px dashed gray;margin: 0 0.4em 0.5em 0.4em;box-sizing: border-box;padding-bottom: 0.4em;background-color: white;}#sk-container-id-4 div.sk-label label {font-family: monospace;font-weight: bold;display: inline-block;line-height: 1.2em;}#sk-container-id-4 div.sk-label-container {text-align: center;}#sk-container-id-4 div.sk-container {/* jupyter's `normalize.less` sets `[hidden] { display: none; }` but bootstrap.min.css set `[hidden] { display: none !important; }` so we also need the `!important` here to be able to override the default hidden behavior on the sphinx rendered scikit-learn.org. See: https://github.com/scikit-learn/scikit-learn/issues/21755 */display: inline-block !important;position: relative;}#sk-container-id-4 div.sk-text-repr-fallback {display: none;}</style><div id=\"sk-container-id-4\" class=\"sk-top-container\"><div class=\"sk-text-repr-fallback\"><pre>PCA(n_components=0.95)</pre><b>In a Jupyter environment, please rerun this cell to show the HTML representation or trust the notebook. <br />On GitHub, the HTML representation is unable to render, please try loading this page with nbviewer.org.</b></div><div class=\"sk-container\" hidden><div class=\"sk-item\"><div class=\"sk-estimator sk-toggleable\"><input class=\"sk-toggleable__control sk-hidden--visually\" id=\"sk-estimator-id-4\" type=\"checkbox\" checked><label for=\"sk-estimator-id-4\" class=\"sk-toggleable__label sk-toggleable__label-arrow\">PCA</label><div class=\"sk-toggleable__content\"><pre>PCA(n_components=0.95)</pre></div></div></div></div></div>"
      ],
      "text/plain": [
       "PCA(n_components=0.95)"
      ]
     },
     "execution_count": 60,
     "metadata": {},
     "output_type": "execute_result"
    }
   ],
   "source": [
    "pca.fit(training_scaled_data)"
   ]
  },
  {
   "cell_type": "code",
   "execution_count": 61,
   "metadata": {},
   "outputs": [],
   "source": [
    "x_pca = pca.transform(training_scaled_data)"
   ]
  },
  {
   "cell_type": "code",
   "execution_count": 62,
   "metadata": {},
   "outputs": [
    {
     "data": {
      "text/plain": [
       "(720, 24)"
      ]
     },
     "execution_count": 62,
     "metadata": {},
     "output_type": "execute_result"
    }
   ],
   "source": [
    "training_scaled_data.shape"
   ]
  },
  {
   "cell_type": "code",
   "execution_count": 63,
   "metadata": {},
   "outputs": [
    {
     "data": {
      "text/plain": [
       "array([0.57970259, 0.12702931, 0.08455243, 0.05680404, 0.04080484,\n",
       "       0.03754472, 0.02187625, 0.01299859])"
      ]
     },
     "execution_count": 63,
     "metadata": {},
     "output_type": "execute_result"
    }
   ],
   "source": [
    "pca.explained_variance_ratio_"
   ]
  },
  {
   "cell_type": "code",
   "execution_count": 64,
   "metadata": {},
   "outputs": [
    {
     "data": {
      "text/plain": [
       "0.9613127660886585"
      ]
     },
     "execution_count": 64,
     "metadata": {},
     "output_type": "execute_result"
    }
   ],
   "source": [
    "np.sum(pca.explained_variance_ratio_)"
   ]
  },
  {
   "cell_type": "code",
   "execution_count": 65,
   "metadata": {},
   "outputs": [
    {
     "data": {
      "text/plain": [
       "(720, 8)"
      ]
     },
     "execution_count": 65,
     "metadata": {},
     "output_type": "execute_result"
    }
   ],
   "source": [
    "x_pca.shape"
   ]
  },
  {
   "cell_type": "markdown",
   "metadata": {},
   "source": [
    "In this case the algorithm has chosen 29 principal components so that the sum of the explained variance is greater than 0.95."
   ]
  },
  {
   "cell_type": "code",
   "execution_count": 66,
   "metadata": {},
   "outputs": [],
   "source": [
    "training_data_pca = pca.transform(training_data)\n",
    "test_data_pca = pca.transform(test_data)"
   ]
  },
  {
   "cell_type": "markdown",
   "metadata": {},
   "source": [
    "Finally, I apply the mapping transform also to the test set."
   ]
  },
  {
   "cell_type": "code",
   "execution_count": 67,
   "metadata": {},
   "outputs": [],
   "source": [
    "training_features_pca = pd.DataFrame(training_data_pca)\n",
    "test_features_pca = pd.DataFrame(test_data_pca)\n",
    "\n",
    "df_pca = np.concatenate((training_data_pca.copy(), test_data_pca.copy()), axis = 0)\n",
    "\n",
    "training_features_pca.columns = list(df.columns[0:x_pca.shape[1]])\n",
    "test_features_pca.columns = list(df.columns[0:x_pca.shape[1]])\n"
   ]
  },
  {
   "cell_type": "markdown",
   "metadata": {},
   "source": [
    "I also convert all the data into Pandas DataFrame."
   ]
  },
  {
   "cell_type": "markdown",
   "metadata": {},
   "source": [
    "# Random Forest Classifier on PCA data"
   ]
  },
  {
   "cell_type": "code",
   "execution_count": 68,
   "metadata": {},
   "outputs": [],
   "source": [
    "import timeit"
   ]
  },
  {
   "cell_type": "code",
   "execution_count": 69,
   "metadata": {},
   "outputs": [],
   "source": [
    "training_targets = training_targets.astype(int)\n",
    "test_target = test_targets.astype(int)"
   ]
  },
  {
   "cell_type": "markdown",
   "metadata": {},
   "source": [
    "This will allow me to make further considerations about performance based on speed."
   ]
  },
  {
   "cell_type": "code",
   "execution_count": 70,
   "metadata": {},
   "outputs": [],
   "source": [
    "from sklearn.ensemble import RandomForestClassifier\n",
    "from sklearn.model_selection import GridSearchCV"
   ]
  },
  {
   "cell_type": "code",
   "execution_count": 71,
   "metadata": {},
   "outputs": [
    {
     "data": {
      "text/plain": [
       "{'criterion': 'gini', 'max_depth': 100, 'n_estimators': 200}"
      ]
     },
     "execution_count": 71,
     "metadata": {},
     "output_type": "execute_result"
    }
   ],
   "source": [
    "start = timeit.default_timer() #to keep track of running time\n",
    "param_grid={\n",
    "        'n_estimators' : [100, 200, 500],\n",
    "        'criterion': ['gini'],\n",
    "        'max_depth': [10, 50, 100],\n",
    "        \n",
    "    }\n",
    "\n",
    "grid_pca = GridSearchCV(RandomForestClassifier(), param_grid, cv=12, scoring='roc_auc', refit='True', verbose=0)\n",
    "grid_pca.fit(training_features_pca, training_targets)\n",
    "\n",
    "best_n_estimators_pca = grid_pca.best_params_['n_estimators']\n",
    "grid_pca.best_params_"
   ]
  },
  {
   "cell_type": "code",
   "execution_count": 72,
   "metadata": {},
   "outputs": [],
   "source": [
    "log_reg_pca = RandomForestClassifier(n_estimators=best_n_estimators_pca, criterion=\"gini\", random_state=42, max_depth=grid_pca.best_params_['max_depth']) \n",
    "log_reg_pca.fit(training_features_pca, training_targets)\n",
    "\n",
    "stop = timeit.default_timer()\n",
    "Time_pca= (stop-start)"
   ]
  },
  {
   "cell_type": "markdown",
   "metadata": {},
   "source": [
    "And performed RandomForestClassifier with the best parameters obtained."
   ]
  },
  {
   "cell_type": "code",
   "execution_count": 73,
   "metadata": {},
   "outputs": [
    {
     "data": {
      "image/png": "[encoded data removed]",
      "text/plain": [
       "<Figure size 2160x720 with 1 Axes>"
      ]
     },
     "metadata": {},
     "output_type": "display_data"
    }
   ],
   "source": [
    "from sklearn import tree\n",
    "len(log_reg_pca.estimators_)\n",
    "plt.figure(figsize=(30,10))\n",
    "_ = tree.plot_tree(log_reg_pca.estimators_[0], filled=False)"
   ]
  },
  {
   "cell_type": "markdown",
   "metadata": {},
   "source": [
    "# Random Forest Classifier (without PCA)"
   ]
  },
  {
   "cell_type": "code",
   "execution_count": 74,
   "metadata": {},
   "outputs": [
    {
     "data": {
      "text/plain": [
       "{'criterion': 'gini', 'max_depth': 100, 'n_estimators': 200}"
      ]
     },
     "execution_count": 74,
     "metadata": {},
     "output_type": "execute_result"
    }
   ],
   "source": [
    "start_1 = timeit.default_timer()\n",
    "\n",
    "param_grid={\n",
    "        'n_estimators' : [100, 200, 500],\n",
    "        'criterion': ['gini'],\n",
    "        'max_depth': [10, 50, 100],\n",
    "        \n",
    "    }\n",
    "\n",
    "\n",
    "grid = GridSearchCV(RandomForestClassifier(), param_grid, cv=12, scoring='roc_auc', refit='True', verbose=0)\n",
    "grid.fit(training_scaled_data, training_targets)\n",
    "\n",
    "best_n_estimators_not_pca = grid.best_params_['n_estimators']\n",
    "grid.best_params_"
   ]
  },
  {
   "cell_type": "code",
   "execution_count": 75,
   "metadata": {},
   "outputs": [],
   "source": [
    "log_reg = RandomForestClassifier(n_estimators=best_n_estimators_pca, criterion=\"gini\", random_state=42, max_depth=grid_pca.best_params_['max_depth'])\n",
    "log_reg.fit(training_scaled_data, training_targets)\n",
    "\n",
    "stop_1 = timeit.default_timer()\n",
    "Time_not_pca= (stop_1-start_1)"
   ]
  },
  {
   "cell_type": "code",
   "execution_count": 76,
   "metadata": {},
   "outputs": [
    {
     "data": {
      "image/png": "[encoded data removed]",
      "text/plain": [
       "<Figure size 2160x720 with 1 Axes>"
      ]
     },
     "metadata": {},
     "output_type": "display_data"
    }
   ],
   "source": [
    "from sklearn import tree\n",
    "len(log_reg_pca.estimators_)\n",
    "plt.figure(figsize=(30,10))\n",
    "_ = tree.plot_tree(log_reg_pca.estimators_[0], filled=False)"
   ]
  },
  {
   "cell_type": "markdown",
   "metadata": {},
   "source": [
    "# Performance metrics"
   ]
  },
  {
   "cell_type": "code",
   "execution_count": 77,
   "metadata": {},
   "outputs": [],
   "source": [
    "from sklearn.metrics import mean_squared_error, accuracy_score, classification_report, confusion_matrix\n",
    "from sklearn.model_selection import cross_val_score"
   ]
  },
  {
   "cell_type": "code",
   "execution_count": 78,
   "metadata": {},
   "outputs": [],
   "source": [
    "predictions_pca = log_reg_pca.predict(test_features_pca)\n",
    "predictions_not_pca = log_reg.predict(test_scaled_data)"
   ]
  },
  {
   "cell_type": "code",
   "execution_count": 79,
   "metadata": {},
   "outputs": [
    {
     "data": {
      "text/plain": [
       "0.03888888888888889"
      ]
     },
     "execution_count": 79,
     "metadata": {},
     "output_type": "execute_result"
    }
   ],
   "source": [
    "mean_squared_error_pca= mean_squared_error(test_targets, predictions_pca)\n",
    "mean_squared_error_pca"
   ]
  },
  {
   "cell_type": "code",
   "execution_count": 80,
   "metadata": {},
   "outputs": [
    {
     "data": {
      "text/plain": [
       "array([0, 1, 0, 1, 1, 1, 0, 0, 1, 0, 1, 0, 1, 0, 1, 0, 1, 1, 1, 0, 1, 1,\n",
       "       1, 0, 1, 0, 1, 0, 1, 1, 1, 1, 0, 1, 1, 0, 0, 1, 1, 0, 1, 0, 0, 0,\n",
       "       0, 1, 0, 1, 0, 1, 1, 0, 0, 1, 1, 1, 1, 1, 0, 0, 0, 1, 1, 0, 1, 0,\n",
       "       0, 1, 0, 0, 0, 0, 0, 0, 0, 0, 1, 0, 0, 0, 1, 1, 0, 1, 1, 0, 1, 0,\n",
       "       1, 1, 0, 1, 1, 0, 0, 1, 0, 0, 0, 1, 1, 0, 0, 1, 0, 0, 0, 1, 1, 0,\n",
       "       0, 0, 0, 1, 0, 0, 0, 0, 0, 1, 0, 1, 0, 1, 0, 1, 1, 0, 1, 0, 0, 1,\n",
       "       0, 1, 0, 1, 1, 1, 1, 0, 1, 0, 0, 1, 0, 0, 0, 0, 0, 1, 0, 0, 0, 1,\n",
       "       0, 1, 0, 0, 1, 1, 1, 1, 1, 0, 1, 0, 1, 1, 0, 1, 1, 1, 0, 1, 0, 1,\n",
       "       1, 1, 0, 0])"
      ]
     },
     "execution_count": 80,
     "metadata": {},
     "output_type": "execute_result"
    }
   ],
   "source": [
    "predictions_pca"
   ]
  },
  {
   "cell_type": "code",
   "execution_count": 81,
   "metadata": {},
   "outputs": [
    {
     "data": {
      "text/plain": [
       "0.9611111111111111"
      ]
     },
     "execution_count": 81,
     "metadata": {},
     "output_type": "execute_result"
    }
   ],
   "source": [
    "accuracy_pca = accuracy_score(test_targets, predictions_pca)\n",
    "accuracy_pca"
   ]
  },
  {
   "cell_type": "code",
   "execution_count": 82,
   "metadata": {
    "scrolled": true
   },
   "outputs": [
    {
     "data": {
      "image/png": "[encoded data removed]",
      "text/plain": [
       "<Figure size 1080x432 with 4 Axes>"
      ]
     },
     "metadata": {},
     "output_type": "display_data"
    }
   ],
   "source": [
    "fig = plt.figure(figsize=(15,6))\n",
    "\n",
    "ax1 = fig.add_subplot(121)\n",
    "clf_report = classification_report(test_targets, predictions_pca, output_dict=True)\n",
    "sns.heatmap(pd.DataFrame(clf_report).iloc[:-1, :].T, linewidths=2, annot=True)\n",
    "\n",
    "ax2 = fig.add_subplot(122)\n",
    "cm = confusion_matrix(test_targets, predictions_pca)\n",
    "sns.heatmap(cm, annot=True, linewidths=3, square = True, cmap = 'Blues_r')\n",
    "plt.show()"
   ]
  },
  {
   "cell_type": "markdown",
   "metadata": {},
   "source": [
    "Here I show the classification report including differnt perfomance measures such as recall and f-1 score and the confusion matrix that shows if the model is mislabeling one class as another one."
   ]
  },
  {
   "cell_type": "code",
   "execution_count": 83,
   "metadata": {},
   "outputs": [
    {
     "name": "stdout",
     "output_type": "stream",
     "text": [
      "cross_validation_accuracy = 0.9680555555555556\n"
     ]
    }
   ],
   "source": [
    "cross_val_score_train_pca =  cross_val_score(log_reg_pca, training_data_pca, training_targets, cv=10).mean()\n",
    "print(f'cross_validation_accuracy = {cross_val_score_train_pca}')"
   ]
  },
  {
   "cell_type": "code",
   "execution_count": 84,
   "metadata": {},
   "outputs": [
    {
     "name": "stdout",
     "output_type": "stream",
     "text": [
      "cross_validation_roc_auc = 0.9963343402926738\n"
     ]
    }
   ],
   "source": [
    "cross_val_score_train_pca =  cross_val_score(log_reg_pca, training_data_pca, training_targets, scoring='roc_auc', cv=10).mean()\n",
    "print(f'cross_validation_roc_auc = {cross_val_score_train_pca}')"
   ]
  },
  {
   "cell_type": "markdown",
   "metadata": {},
   "source": [
    "Then I show the same performance measures relative to the LogisticRegression without PCA data."
   ]
  },
  {
   "cell_type": "code",
   "execution_count": 85,
   "metadata": {},
   "outputs": [
    {
     "data": {
      "text/plain": [
       "0.022222222222222223"
      ]
     },
     "execution_count": 85,
     "metadata": {},
     "output_type": "execute_result"
    }
   ],
   "source": [
    "mean_squared_error_not_pca= mean_squared_error(test_targets, predictions_not_pca)\n",
    "mean_squared_error_not_pca"
   ]
  },
  {
   "cell_type": "code",
   "execution_count": 86,
   "metadata": {},
   "outputs": [
    {
     "data": {
      "text/plain": [
       "0.9777777777777777"
      ]
     },
     "execution_count": 86,
     "metadata": {},
     "output_type": "execute_result"
    }
   ],
   "source": [
    "accuracy_not_pca = accuracy_score(test_targets, predictions_not_pca)\n",
    "accuracy_not_pca"
   ]
  },
  {
   "cell_type": "code",
   "execution_count": 87,
   "metadata": {
    "scrolled": true
   },
   "outputs": [
    {
     "data": {
      "image/png": "[encoded data removed]",
      "text/plain": [
       "<Figure size 1080x432 with 4 Axes>"
      ]
     },
     "metadata": {},
     "output_type": "display_data"
    }
   ],
   "source": [
    "fig = plt.figure(figsize=(15,6))\n",
    "\n",
    "ax1 = fig.add_subplot(121)\n",
    "clf_report = classification_report(test_targets, predictions_not_pca, output_dict=True)\n",
    "sns.heatmap(pd.DataFrame(clf_report).iloc[:-1, :].T, linewidths=2, annot=True)\n",
    "\n",
    "ax2 = fig.add_subplot(122)\n",
    "cm = confusion_matrix(test_targets, predictions_not_pca)\n",
    "sns.heatmap(cm, annot=True, linewidths=3, square = True, cmap = 'Blues_r')\n",
    "plt.show()"
   ]
  },
  {
   "cell_type": "code",
   "execution_count": 88,
   "metadata": {
    "scrolled": true
   },
   "outputs": [
    {
     "name": "stdout",
     "output_type": "stream",
     "text": [
      "cross_validation_accuracy = 0.975\n"
     ]
    }
   ],
   "source": [
    "cross_val_score_train =  cross_val_score(log_reg, training_scaled_data, training_targets, cv=10).mean()\n",
    "print(f'cross_validation_accuracy = {cross_val_score_train}')"
   ]
  },
  {
   "cell_type": "code",
   "execution_count": 89,
   "metadata": {},
   "outputs": [
    {
     "name": "stdout",
     "output_type": "stream",
     "text": [
      "cross_validation_roc_auc = 0.9983794508794508\n"
     ]
    }
   ],
   "source": [
    "cross_val_score_train =  cross_val_score(log_reg, training_scaled_data, training_targets,scoring='roc_auc', cv=10).mean()\n",
    "print(f'cross_validation_roc_auc = {cross_val_score_train}')"
   ]
  },
  {
   "cell_type": "markdown",
   "metadata": {},
   "source": [
    "The accuracy in both cases is pretty high."
   ]
  },
  {
   "cell_type": "markdown",
   "metadata": {},
   "source": [
    "# Pipeline strategy"
   ]
  },
  {
   "cell_type": "markdown",
   "metadata": {},
   "source": [
    "In this section I decided to implement a different strategy in order to find the optimal vallue for the model and the optimal number of principal components:\n",
    "\n",
    "I use a pipeline to optimize my parameters, including the number of principal components, using GridSearchCV, so that I can also check my results by cross validation."
   ]
  },
  {
   "cell_type": "code",
   "execution_count": 90,
   "metadata": {},
   "outputs": [],
   "source": [
    "from sklearn.pipeline import Pipeline\n",
    "from sklearn import linear_model, decomposition"
   ]
  },
  {
   "cell_type": "code",
   "execution_count": 91,
   "metadata": {},
   "outputs": [],
   "source": [
    "start_3 = timeit.default_timer()\n",
    "\n",
    "sc = StandardScaler() #scaler object\n",
    "\n",
    "pca = decomposition.PCA() #PCA object\n",
    "\n",
    "RandomForest = sklearn.ensemble.RandomForestClassifier #RandomForestClassifier object"
   ]
  },
  {
   "cell_type": "code",
   "execution_count": 92,
   "metadata": {},
   "outputs": [],
   "source": [
    "pipe= Pipeline(steps=[('sc', sc),\n",
    "                     ('pca', pca),\n",
    "                     ('classifier', RandomForestClassifier(random_state = 42))])"
   ]
  },
  {
   "cell_type": "markdown",
   "metadata": {},
   "source": [
    "Here I implemented the pipeline using StandardScaler and PCA:"
   ]
  },
  {
   "cell_type": "code",
   "execution_count": 93,
   "metadata": {},
   "outputs": [],
   "source": [
    "hyperparameters = { \n",
    "                    'classifier__n_estimators': [20, 30, 50],\n",
    "                    'classifier__max_depth': [2, 4],\n",
    "                    'classifier__min_samples_leaf': [2, 4]\n",
    "                  }"
   ]
  },
  {
   "cell_type": "markdown",
   "metadata": {},
   "source": [
    "These are the parameters to optimize and by using scoring=None in GridSearchCV, the strategy to evaluate performance will be the roc_auc."
   ]
  },
  {
   "cell_type": "code",
   "execution_count": 94,
   "metadata": {},
   "outputs": [],
   "source": [
    "clf = GridSearchCV(pipe, hyperparameters, cv=3)\n",
    "\n",
    "clf.fit(df, targets)\n",
    "\n",
    "stop_3 = timeit.default_timer()\n",
    "Time_pipeline= (stop_3-start_3)"
   ]
  },
  {
   "cell_type": "code",
   "execution_count": 95,
   "metadata": {},
   "outputs": [
    {
     "name": "stdout",
     "output_type": "stream",
     "text": [
      "Best classifier__n_estimators: 30\n",
      "Best classifier__max_depth: 4\n",
      "Best classifier__min_samples_leaf: 2\n",
      "\n",
      "RandomForestClassifier(max_depth=4, min_samples_leaf=2, n_estimators=30,\n",
      "                       random_state=42)\n"
     ]
    }
   ],
   "source": [
    "print('Best classifier__n_estimators:', clf.best_estimator_.get_params()['classifier__n_estimators'])\n",
    "print('Best classifier__max_depth:', clf.best_estimator_.get_params()['classifier__max_depth'])\n",
    "print('Best classifier__min_samples_leaf:', clf.best_estimator_.get_params()['classifier__min_samples_leaf'])\n",
    "print(); print(clf.best_estimator_.get_params()['classifier'])\n",
    "\n"
   ]
  },
  {
   "cell_type": "code",
   "execution_count": 96,
   "metadata": {},
   "outputs": [
    {
     "name": "stdout",
     "output_type": "stream",
     "text": [
      "\n",
      "CV_result: [0.9837037  0.99432099 0.99679012 0.99111111 0.97987654]\n",
      "\n",
      "Mean of CV_Result: 0.9891604938271603\n",
      "\n",
      "Standard Deviation of CV_Result: 0.006397111068748994\n"
     ]
    }
   ],
   "source": [
    "CV_Result = cross_val_score(clf, df, targets, scoring='roc_auc',cv=5, n_jobs=-1)\n",
    "print(); print('CV_result:', CV_Result)\n",
    "print(); print('Mean of CV_Result:',CV_Result.mean())\n",
    "print(); print('Standard Deviation of CV_Result:',CV_Result.std())"
   ]
  },
  {
   "cell_type": "markdown",
   "metadata": {},
   "source": [
    "I also use cross validation to check the Cross Validation score of our RandomForestClassifier."
   ]
  },
  {
   "cell_type": "markdown",
   "metadata": {},
   "source": [
    "# Alternative models"
   ]
  },
  {
   "cell_type": "markdown",
   "metadata": {},
   "source": [
    "In this section I try to choose an alternative model, based on mean_squared_error, so I randomly split my data again and I perform PCA."
   ]
  },
  {
   "cell_type": "code",
   "execution_count": 97,
   "metadata": {},
   "outputs": [],
   "source": [
    "pd.set_option('mode.chained_assignment',None) #to avoid display of chained assignment warning\n",
    "training_data, test_data = train_test_split(data, test_size=0.20)\n",
    "\n",
    "training_targets = training_data.iloc[:, 0] \n",
    "test_targets =  test_data.iloc[:, 0]\n",
    "\n",
    "training_data.drop(columns=[\"class\"], inplace=True)\n",
    "test_data.drop(columns=[\"class\"], inplace=True)"
   ]
  },
  {
   "cell_type": "code",
   "execution_count": 98,
   "metadata": {},
   "outputs": [],
   "source": [
    "training_targets = training_targets.astype(int)\n",
    "test_target = test_targets.astype(int)"
   ]
  },
  {
   "cell_type": "code",
   "execution_count": 99,
   "metadata": {},
   "outputs": [
    {
     "data": {
      "text/html": [
       "<style>#sk-container-id-5 {color: black;background-color: white;}#sk-container-id-5 pre{padding: 0;}#sk-container-id-5 div.sk-toggleable {background-color: white;}#sk-container-id-5 label.sk-toggleable__label {cursor: pointer;display: block;width: 100%;margin-bottom: 0;padding: 0.3em;box-sizing: border-box;text-align: center;}#sk-container-id-5 label.sk-toggleable__label-arrow:before {content: \"▸\";float: left;margin-right: 0.25em;color: #696969;}#sk-container-id-5 label.sk-toggleable__label-arrow:hover:before {color: black;}#sk-container-id-5 div.sk-estimator:hover label.sk-toggleable__label-arrow:before {color: black;}#sk-container-id-5 div.sk-toggleable__content {max-height: 0;max-width: 0;overflow: hidden;text-align: left;background-color: #f0f8ff;}#sk-container-id-5 div.sk-toggleable__content pre {margin: 0.2em;color: black;border-radius: 0.25em;background-color: #f0f8ff;}#sk-container-id-5 input.sk-toggleable__control:checked~div.sk-toggleable__content {max-height: 200px;max-width: 100%;overflow: auto;}#sk-container-id-5 input.sk-toggleable__control:checked~label.sk-toggleable__label-arrow:before {content: \"▾\";}#sk-container-id-5 div.sk-estimator input.sk-toggleable__control:checked~label.sk-toggleable__label {background-color: #d4ebff;}#sk-container-id-5 div.sk-label input.sk-toggleable__control:checked~label.sk-toggleable__label {background-color: #d4ebff;}#sk-container-id-5 input.sk-hidden--visually {border: 0;clip: rect(1px 1px 1px 1px);clip: rect(1px, 1px, 1px, 1px);height: 1px;margin: -1px;overflow: hidden;padding: 0;position: absolute;width: 1px;}#sk-container-id-5 div.sk-estimator {font-family: monospace;background-color: #f0f8ff;border: 1px dotted black;border-radius: 0.25em;box-sizing: border-box;margin-bottom: 0.5em;}#sk-container-id-5 div.sk-estimator:hover {background-color: #d4ebff;}#sk-container-id-5 div.sk-parallel-item::after {content: \"\";width: 100%;border-bottom: 1px solid gray;flex-grow: 1;}#sk-container-id-5 div.sk-label:hover label.sk-toggleable__label {background-color: #d4ebff;}#sk-container-id-5 div.sk-serial::before {content: \"\";position: absolute;border-left: 1px solid gray;box-sizing: border-box;top: 0;bottom: 0;left: 50%;z-index: 0;}#sk-container-id-5 div.sk-serial {display: flex;flex-direction: column;align-items: center;background-color: white;padding-right: 0.2em;padding-left: 0.2em;position: relative;}#sk-container-id-5 div.sk-item {position: relative;z-index: 1;}#sk-container-id-5 div.sk-parallel {display: flex;align-items: stretch;justify-content: center;background-color: white;position: relative;}#sk-container-id-5 div.sk-item::before, #sk-container-id-5 div.sk-parallel-item::before {content: \"\";position: absolute;border-left: 1px solid gray;box-sizing: border-box;top: 0;bottom: 0;left: 50%;z-index: -1;}#sk-container-id-5 div.sk-parallel-item {display: flex;flex-direction: column;z-index: 1;position: relative;background-color: white;}#sk-container-id-5 div.sk-parallel-item:first-child::after {align-self: flex-end;width: 50%;}#sk-container-id-5 div.sk-parallel-item:last-child::after {align-self: flex-start;width: 50%;}#sk-container-id-5 div.sk-parallel-item:only-child::after {width: 0;}#sk-container-id-5 div.sk-dashed-wrapped {border: 1px dashed gray;margin: 0 0.4em 0.5em 0.4em;box-sizing: border-box;padding-bottom: 0.4em;background-color: white;}#sk-container-id-5 div.sk-label label {font-family: monospace;font-weight: bold;display: inline-block;line-height: 1.2em;}#sk-container-id-5 div.sk-label-container {text-align: center;}#sk-container-id-5 div.sk-container {/* jupyter's `normalize.less` sets `[hidden] { display: none; }` but bootstrap.min.css set `[hidden] { display: none !important; }` so we also need the `!important` here to be able to override the default hidden behavior on the sphinx rendered scikit-learn.org. See: https://github.com/scikit-learn/scikit-learn/issues/21755 */display: inline-block !important;position: relative;}#sk-container-id-5 div.sk-text-repr-fallback {display: none;}</style><div id=\"sk-container-id-5\" class=\"sk-top-container\"><div class=\"sk-text-repr-fallback\"><pre>StandardScaler()</pre><b>In a Jupyter environment, please rerun this cell to show the HTML representation or trust the notebook. <br />On GitHub, the HTML representation is unable to render, please try loading this page with nbviewer.org.</b></div><div class=\"sk-container\" hidden><div class=\"sk-item\"><div class=\"sk-estimator sk-toggleable\"><input class=\"sk-toggleable__control sk-hidden--visually\" id=\"sk-estimator-id-5\" type=\"checkbox\" checked><label for=\"sk-estimator-id-5\" class=\"sk-toggleable__label sk-toggleable__label-arrow\">StandardScaler</label><div class=\"sk-toggleable__content\"><pre>StandardScaler()</pre></div></div></div></div></div>"
      ],
      "text/plain": [
       "StandardScaler()"
      ]
     },
     "execution_count": 99,
     "metadata": {},
     "output_type": "execute_result"
    }
   ],
   "source": [
    "scaler= StandardScaler()\n",
    "scaler.fit(training_data)"
   ]
  },
  {
   "cell_type": "code",
   "execution_count": 100,
   "metadata": {},
   "outputs": [],
   "source": [
    "training_scaled_data= pd.DataFrame(scaler.transform(training_data))\n",
    "test_scaled_data= pd.DataFrame(scaler.transform(test_data))"
   ]
  },
  {
   "cell_type": "code",
   "execution_count": 101,
   "metadata": {
    "scrolled": true
   },
   "outputs": [
    {
     "name": "stdout",
     "output_type": "stream",
     "text": [
      "Support Vector Machine Regressor:0.00941414906122437\n",
      "Gradient Boosting Regressor:0.007972805791106687\n",
      "RandomForestRegressor:0.007973504673506477\n",
      "RandomForestClassifier:0.007973504673506477\n",
      "AdaBoost Classifier:0.007973504673506477\n"
     ]
    }
   ],
   "source": [
    "from sklearn.ensemble import RandomForestRegressor\n",
    "from sklearn.ensemble import RandomForestClassifier\n",
    "from sklearn.svm import SVR\n",
    "from sklearn.ensemble import GradientBoostingRegressor\n",
    "from sklearn.ensemble import AdaBoostClassifier\n",
    "\n",
    "\n",
    "models=dict()\n",
    "\n",
    "models[\"Support Vector Machine Regressor\"]=SVR()\n",
    "models[\"Gradient Boosting Regressor\"]=GradientBoostingRegressor()\n",
    "models[\"RandomForestRegressor\"]=RandomForestRegressor()\n",
    "models[\"RandomForestClassifier\"]=RandomForestClassifier()\n",
    "models[\"AdaBoost Classifier\"]=AdaBoostClassifier()\n",
    "\n",
    "for model in models:\n",
    "    model_inuse=models[model].fit(training_scaled_data,training_targets)\n",
    "    prediction=model_inuse.predict(test_scaled_data)\n",
    "    print(f\"{model}:{mean_squared_error(test_targets,prediction)}\")"
   ]
  },
  {
   "cell_type": "markdown",
   "metadata": {},
   "source": [
    "Random Forest Classifier seems to achieve the lowest MSE."
   ]
  },
  {
   "cell_type": "markdown",
   "metadata": {},
   "source": [
    "# Conclusion"
   ]
  },
  {
   "cell_type": "code",
   "execution_count": 102,
   "metadata": {},
   "outputs": [
    {
     "name": "stdout",
     "output_type": "stream",
     "text": [
      "Running time without PCA:161.70059130000004\n"
     ]
    }
   ],
   "source": [
    "print(f'Running time without PCA:{Time_not_pca}')"
   ]
  },
  {
   "cell_type": "code",
   "execution_count": 103,
   "metadata": {},
   "outputs": [
    {
     "name": "stdout",
     "output_type": "stream",
     "text": [
      "Running time with method of explained_variance:141.68254290000004\n"
     ]
    }
   ],
   "source": [
    "print(f'Running time with method of explained_variance:{Time_pca}')"
   ]
  },
  {
   "cell_type": "code",
   "execution_count": 104,
   "metadata": {},
   "outputs": [
    {
     "name": "stdout",
     "output_type": "stream",
     "text": [
      "Running time with pipeline method:7.790022000000022\n"
     ]
    }
   ],
   "source": [
    "print(f'Running time with pipeline method:{Time_pipeline}')"
   ]
  }
 ],
 "metadata": {
  "kernelspec": {
   "display_name": "Python 3",
   "language": "python",
   "name": "python3"
  },
  "language_info": {
   "codemirror_mode": {
    "name": "ipython",
    "version": 3
   },
   "file_extension": ".py",
   "mimetype": "text/x-python",
   "name": "python",
   "nbconvert_exporter": "python",
   "pygments_lexer": "ipython3",
   "version": "3.8.5"
  }
 },
 "nbformat": 4,
 "nbformat_minor": 4
}
